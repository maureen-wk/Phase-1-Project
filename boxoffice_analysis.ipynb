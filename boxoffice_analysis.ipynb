{
  "nbformat": 4,
  "nbformat_minor": 0,
  "metadata": {
    "colab": {
      "provenance": []
    },
    "kernelspec": {
      "name": "python3",
      "display_name": "Python 3"
    },
    "language_info": {
      "name": "python"
    }
  },
  "cells": [
    {
      "cell_type": "markdown",
      "source": [
        "Final Project Submission\n",
        "\n",
        "Please fill out:\n",
        "\n",
        "\n",
        "\n",
        "1.   Student name: Maureen Wangonyo Kariuki\n",
        "\n",
        "1.   Student pace: part time\n",
        "2.   Scheduled project review date/time: 17/04/2023\n",
        "2.   Instructor name: Everlyn Asiko\n",
        "1.   Blog post URL: \n",
        "\n",
        "\n",
        "\n",
        "\n"
      ],
      "metadata": {
        "id": "H_AzN5GbKdGe"
      }
    }
  ]
}