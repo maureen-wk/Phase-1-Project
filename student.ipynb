{
 "cells": [
  {
   "cell_type": "markdown",
   "metadata": {},
   "source": [
    "## Final Project Submission\n",
    "\n",
    "Please fill out:\n",
    "* Student name: Maureen Wangonyo Kariuki\n",
    "* Student pace: part time\n",
    "* Scheduled project review date/time: 17/04/2023\n",
    "* Instructor name: Everlyn Asiko\n",
    "* Blog post URL:\n"
   ]
  },
  {
   "cell_type": "markdown",
   "metadata": {},
   "source": [
    "# Box Office Best Hits Project\n",
    "\n",
    "## 1. Project Goal\n",
    "\n",
    "The aim of this project is to identify the best performing films in the box office\n",
    "\n",
    "## 2. Business Understanding\n",
    "\n",
    "To assist in deciding what type of films to make in the new Microsoft movie studio. \n",
    "\n",
    "This is by considering multiple factors e.g. how different genres perform based on revenue and ratings \n",
    "\n",
    "## 3. Data Sources and Understanding\n",
    "\n",
    "The Data sources we'll use are from below sources which provide ample data on different films that will enable us to conduct a conclusive anaysis on the most successful films.\n",
    "\n",
    "<a href=\"https://www.boxofficemojo.com\" target=\"_blank\">boxoffice mojo</a>\n",
    "\n",
    "<a href=\"https://www.imdb.com\" target=\"_blank\">imbd</a>\n",
    "\n",
    "<a href=\"https://www.rottentomatoes.com\" target=\"_blank\">rotten tomatoes</a>\n",
    "\n",
    "<a href=\"https://www.the-numbers.com\" target=\"_blank\">the numbers</a>\n",
    "\n",
    "-\n",
    "\n",
    "\n",
    "Data Glosary\n",
    "\n",
    "**title** - movie titles\n",
    "\n",
    "**studio** - studio responsible for the movies\n",
    "\n",
    "**domestic gross** - revenue from domestic market\n",
    "\n",
    "**foreign gross** - revenue from foreign market\n",
    "\n",
    "**genres** - classification of the movie make type\n",
    "\n",
    "**averagerating** - ranking of standard of film quality\n",
    "\n",
    "**numvotes** - viewers numbered votes\n"
   ]
  },
  {
   "cell_type": "markdown",
   "metadata": {},
   "source": [
    "### 3.1 Data Loading\n",
    "\n",
    "We will import our datasets into our file"
   ]
  },
  {
   "cell_type": "code",
   "execution_count": 1,
   "metadata": {},
   "outputs": [],
   "source": [
    "#import necessary libraries\n",
    "\n",
    "import pandas as pd\n",
    "import numpy as np\n",
    "import seaborn as sns\n",
    "import matplotlib.pyplot as plt\n",
    "import warnings"
   ]
  },
  {
   "cell_type": "code",
   "execution_count": 2,
   "metadata": {},
   "outputs": [],
   "source": [
    "#connect to gross data source\n",
    "\n",
    "gross_df = pd.read_csv('zippedData/bom.movie_gross.csv.gz')"
   ]
  },
  {
   "cell_type": "code",
   "execution_count": 3,
   "metadata": {},
   "outputs": [],
   "source": [
    "#connect to database data source\n",
    "\n",
    "import sqlite3\n",
    "conn =sqlite3.connect('zippedData/im.db')"
   ]
  },
  {
   "cell_type": "markdown",
   "metadata": {},
   "source": [
    "## 4. Data Exploration\n",
    "\n",
    "Let's preview and explore our datasets!"
   ]
  },
  {
   "cell_type": "code",
   "execution_count": 4,
   "metadata": {},
   "outputs": [
    {
     "data": {
      "text/html": [
       "<div>\n",
       "<style scoped>\n",
       "    .dataframe tbody tr th:only-of-type {\n",
       "        vertical-align: middle;\n",
       "    }\n",
       "\n",
       "    .dataframe tbody tr th {\n",
       "        vertical-align: top;\n",
       "    }\n",
       "\n",
       "    .dataframe thead th {\n",
       "        text-align: right;\n",
       "    }\n",
       "</style>\n",
       "<table border=\"1\" class=\"dataframe\">\n",
       "  <thead>\n",
       "    <tr style=\"text-align: right;\">\n",
       "      <th></th>\n",
       "      <th>title</th>\n",
       "      <th>studio</th>\n",
       "      <th>domestic_gross</th>\n",
       "      <th>foreign_gross</th>\n",
       "      <th>year</th>\n",
       "    </tr>\n",
       "  </thead>\n",
       "  <tbody>\n",
       "    <tr>\n",
       "      <th>0</th>\n",
       "      <td>Toy Story 3</td>\n",
       "      <td>BV</td>\n",
       "      <td>415000000.0</td>\n",
       "      <td>652000000</td>\n",
       "      <td>2010</td>\n",
       "    </tr>\n",
       "    <tr>\n",
       "      <th>1</th>\n",
       "      <td>Alice in Wonderland (2010)</td>\n",
       "      <td>BV</td>\n",
       "      <td>334200000.0</td>\n",
       "      <td>691300000</td>\n",
       "      <td>2010</td>\n",
       "    </tr>\n",
       "    <tr>\n",
       "      <th>2</th>\n",
       "      <td>Harry Potter and the Deathly Hallows Part 1</td>\n",
       "      <td>WB</td>\n",
       "      <td>296000000.0</td>\n",
       "      <td>664300000</td>\n",
       "      <td>2010</td>\n",
       "    </tr>\n",
       "    <tr>\n",
       "      <th>3</th>\n",
       "      <td>Inception</td>\n",
       "      <td>WB</td>\n",
       "      <td>292600000.0</td>\n",
       "      <td>535700000</td>\n",
       "      <td>2010</td>\n",
       "    </tr>\n",
       "    <tr>\n",
       "      <th>4</th>\n",
       "      <td>Shrek Forever After</td>\n",
       "      <td>P/DW</td>\n",
       "      <td>238700000.0</td>\n",
       "      <td>513900000</td>\n",
       "      <td>2010</td>\n",
       "    </tr>\n",
       "  </tbody>\n",
       "</table>\n",
       "</div>"
      ],
      "text/plain": [
       "                                         title studio  domestic_gross  \\\n",
       "0                                  Toy Story 3     BV     415000000.0   \n",
       "1                   Alice in Wonderland (2010)     BV     334200000.0   \n",
       "2  Harry Potter and the Deathly Hallows Part 1     WB     296000000.0   \n",
       "3                                    Inception     WB     292600000.0   \n",
       "4                          Shrek Forever After   P/DW     238700000.0   \n",
       "\n",
       "  foreign_gross  year  \n",
       "0     652000000  2010  \n",
       "1     691300000  2010  \n",
       "2     664300000  2010  \n",
       "3     535700000  2010  \n",
       "4     513900000  2010  "
      ]
     },
     "execution_count": 4,
     "metadata": {},
     "output_type": "execute_result"
    }
   ],
   "source": [
    "#preview revenue data\n",
    "gross_df.head()"
   ]
  },
  {
   "cell_type": "code",
   "execution_count": 5,
   "metadata": {},
   "outputs": [
    {
     "name": "stdout",
     "output_type": "stream",
     "text": [
      "<class 'pandas.core.frame.DataFrame'>\n",
      "RangeIndex: 3387 entries, 0 to 3386\n",
      "Data columns (total 5 columns):\n",
      " #   Column          Non-Null Count  Dtype  \n",
      "---  ------          --------------  -----  \n",
      " 0   title           3387 non-null   object \n",
      " 1   studio          3382 non-null   object \n",
      " 2   domestic_gross  3359 non-null   float64\n",
      " 3   foreign_gross   2037 non-null   object \n",
      " 4   year            3387 non-null   int64  \n",
      "dtypes: float64(1), int64(1), object(3)\n",
      "memory usage: 132.4+ KB\n"
     ]
    }
   ],
   "source": [
    "gross_df.info()"
   ]
  },
  {
   "cell_type": "code",
   "execution_count": 6,
   "metadata": {},
   "outputs": [
    {
     "data": {
      "text/plain": [
       "Index(['title', 'studio', 'domestic_gross', 'foreign_gross', 'year'], dtype='object')"
      ]
     },
     "execution_count": 6,
     "metadata": {},
     "output_type": "execute_result"
    }
   ],
   "source": [
    "gross_df.columns"
   ]
  },
  {
   "cell_type": "code",
   "execution_count": 7,
   "metadata": {},
   "outputs": [
    {
     "data": {
      "text/plain": [
       "title              object\n",
       "studio             object\n",
       "domestic_gross    float64\n",
       "foreign_gross      object\n",
       "year                int64\n",
       "dtype: object"
      ]
     },
     "execution_count": 7,
     "metadata": {},
     "output_type": "execute_result"
    }
   ],
   "source": [
    "gross_df.dtypes"
   ]
  },
  {
   "cell_type": "markdown",
   "metadata": {},
   "source": [
    "The rest of the columns seem okay except the foreign_gross column datatype is an object"
   ]
  },
  {
   "cell_type": "code",
   "execution_count": 8,
   "metadata": {},
   "outputs": [
    {
     "data": {
      "text/html": [
       "<div>\n",
       "<style scoped>\n",
       "    .dataframe tbody tr th:only-of-type {\n",
       "        vertical-align: middle;\n",
       "    }\n",
       "\n",
       "    .dataframe tbody tr th {\n",
       "        vertical-align: top;\n",
       "    }\n",
       "\n",
       "    .dataframe thead th {\n",
       "        text-align: right;\n",
       "    }\n",
       "</style>\n",
       "<table border=\"1\" class=\"dataframe\">\n",
       "  <thead>\n",
       "    <tr style=\"text-align: right;\">\n",
       "      <th></th>\n",
       "      <th>domestic_gross</th>\n",
       "      <th>year</th>\n",
       "    </tr>\n",
       "  </thead>\n",
       "  <tbody>\n",
       "    <tr>\n",
       "      <th>count</th>\n",
       "      <td>3.359000e+03</td>\n",
       "      <td>3387.000000</td>\n",
       "    </tr>\n",
       "    <tr>\n",
       "      <th>mean</th>\n",
       "      <td>2.874585e+07</td>\n",
       "      <td>2013.958075</td>\n",
       "    </tr>\n",
       "    <tr>\n",
       "      <th>std</th>\n",
       "      <td>6.698250e+07</td>\n",
       "      <td>2.478141</td>\n",
       "    </tr>\n",
       "    <tr>\n",
       "      <th>min</th>\n",
       "      <td>1.000000e+02</td>\n",
       "      <td>2010.000000</td>\n",
       "    </tr>\n",
       "    <tr>\n",
       "      <th>25%</th>\n",
       "      <td>1.200000e+05</td>\n",
       "      <td>2012.000000</td>\n",
       "    </tr>\n",
       "    <tr>\n",
       "      <th>50%</th>\n",
       "      <td>1.400000e+06</td>\n",
       "      <td>2014.000000</td>\n",
       "    </tr>\n",
       "    <tr>\n",
       "      <th>75%</th>\n",
       "      <td>2.790000e+07</td>\n",
       "      <td>2016.000000</td>\n",
       "    </tr>\n",
       "    <tr>\n",
       "      <th>max</th>\n",
       "      <td>9.367000e+08</td>\n",
       "      <td>2018.000000</td>\n",
       "    </tr>\n",
       "  </tbody>\n",
       "</table>\n",
       "</div>"
      ],
      "text/plain": [
       "       domestic_gross         year\n",
       "count    3.359000e+03  3387.000000\n",
       "mean     2.874585e+07  2013.958075\n",
       "std      6.698250e+07     2.478141\n",
       "min      1.000000e+02  2010.000000\n",
       "25%      1.200000e+05  2012.000000\n",
       "50%      1.400000e+06  2014.000000\n",
       "75%      2.790000e+07  2016.000000\n",
       "max      9.367000e+08  2018.000000"
      ]
     },
     "execution_count": 8,
     "metadata": {},
     "output_type": "execute_result"
    }
   ],
   "source": [
    "gross_df.describe()"
   ]
  },
  {
   "cell_type": "code",
   "execution_count": 9,
   "metadata": {},
   "outputs": [
    {
     "data": {
      "text/html": [
       "<div>\n",
       "<style scoped>\n",
       "    .dataframe tbody tr th:only-of-type {\n",
       "        vertical-align: middle;\n",
       "    }\n",
       "\n",
       "    .dataframe tbody tr th {\n",
       "        vertical-align: top;\n",
       "    }\n",
       "\n",
       "    .dataframe thead th {\n",
       "        text-align: right;\n",
       "    }\n",
       "</style>\n",
       "<table border=\"1\" class=\"dataframe\">\n",
       "  <thead>\n",
       "    <tr style=\"text-align: right;\">\n",
       "      <th></th>\n",
       "      <th>title</th>\n",
       "      <th>studio</th>\n",
       "      <th>domestic_gross</th>\n",
       "      <th>foreign_gross</th>\n",
       "      <th>year</th>\n",
       "    </tr>\n",
       "  </thead>\n",
       "  <tbody>\n",
       "    <tr>\n",
       "      <th>1233</th>\n",
       "      <td>Delivery Man</td>\n",
       "      <td>BV</td>\n",
       "      <td>30700000.0</td>\n",
       "      <td>19300000</td>\n",
       "      <td>2013</td>\n",
       "    </tr>\n",
       "    <tr>\n",
       "      <th>3166</th>\n",
       "      <td>Adrift</td>\n",
       "      <td>STX</td>\n",
       "      <td>31400000.0</td>\n",
       "      <td>28500000</td>\n",
       "      <td>2018</td>\n",
       "    </tr>\n",
       "    <tr>\n",
       "      <th>432</th>\n",
       "      <td>Detective Dee and the Mystery of the Phantom F...</td>\n",
       "      <td>IM</td>\n",
       "      <td>460000.0</td>\n",
       "      <td>51300000</td>\n",
       "      <td>2011</td>\n",
       "    </tr>\n",
       "    <tr>\n",
       "      <th>2802</th>\n",
       "      <td>The Emoji Movie</td>\n",
       "      <td>Sony</td>\n",
       "      <td>86100000.0</td>\n",
       "      <td>131699999</td>\n",
       "      <td>2017</td>\n",
       "    </tr>\n",
       "    <tr>\n",
       "      <th>1002</th>\n",
       "      <td>Son of Sardaar</td>\n",
       "      <td>Eros</td>\n",
       "      <td>772000.0</td>\n",
       "      <td>NaN</td>\n",
       "      <td>2012</td>\n",
       "    </tr>\n",
       "  </tbody>\n",
       "</table>\n",
       "</div>"
      ],
      "text/plain": [
       "                                                  title studio  \\\n",
       "1233                                       Delivery Man     BV   \n",
       "3166                                             Adrift    STX   \n",
       "432   Detective Dee and the Mystery of the Phantom F...     IM   \n",
       "2802                                    The Emoji Movie   Sony   \n",
       "1002                                     Son of Sardaar   Eros   \n",
       "\n",
       "      domestic_gross foreign_gross  year  \n",
       "1233      30700000.0      19300000  2013  \n",
       "3166      31400000.0      28500000  2018  \n",
       "432         460000.0      51300000  2011  \n",
       "2802      86100000.0     131699999  2017  \n",
       "1002        772000.0           NaN  2012  "
      ]
     },
     "execution_count": 9,
     "metadata": {},
     "output_type": "execute_result"
    }
   ],
   "source": [
    "gross_df.sample(5)"
   ]
  },
  {
   "cell_type": "code",
   "execution_count": 10,
   "metadata": {},
   "outputs": [
    {
     "data": {
      "text/html": [
       "<div>\n",
       "<style scoped>\n",
       "    .dataframe tbody tr th:only-of-type {\n",
       "        vertical-align: middle;\n",
       "    }\n",
       "\n",
       "    .dataframe tbody tr th {\n",
       "        vertical-align: top;\n",
       "    }\n",
       "\n",
       "    .dataframe thead th {\n",
       "        text-align: right;\n",
       "    }\n",
       "</style>\n",
       "<table border=\"1\" class=\"dataframe\">\n",
       "  <thead>\n",
       "    <tr style=\"text-align: right;\">\n",
       "      <th></th>\n",
       "      <th>movie_id</th>\n",
       "      <th>primary_title</th>\n",
       "      <th>original_title</th>\n",
       "      <th>start_year</th>\n",
       "      <th>runtime_minutes</th>\n",
       "      <th>genres</th>\n",
       "    </tr>\n",
       "  </thead>\n",
       "  <tbody>\n",
       "    <tr>\n",
       "      <th>0</th>\n",
       "      <td>tt0063540</td>\n",
       "      <td>Sunghursh</td>\n",
       "      <td>Sunghursh</td>\n",
       "      <td>2013</td>\n",
       "      <td>175.0</td>\n",
       "      <td>Action,Crime,Drama</td>\n",
       "    </tr>\n",
       "    <tr>\n",
       "      <th>1</th>\n",
       "      <td>tt0066787</td>\n",
       "      <td>One Day Before the Rainy Season</td>\n",
       "      <td>Ashad Ka Ek Din</td>\n",
       "      <td>2019</td>\n",
       "      <td>114.0</td>\n",
       "      <td>Biography,Drama</td>\n",
       "    </tr>\n",
       "    <tr>\n",
       "      <th>2</th>\n",
       "      <td>tt0069049</td>\n",
       "      <td>The Other Side of the Wind</td>\n",
       "      <td>The Other Side of the Wind</td>\n",
       "      <td>2018</td>\n",
       "      <td>122.0</td>\n",
       "      <td>Drama</td>\n",
       "    </tr>\n",
       "    <tr>\n",
       "      <th>3</th>\n",
       "      <td>tt0069204</td>\n",
       "      <td>Sabse Bada Sukh</td>\n",
       "      <td>Sabse Bada Sukh</td>\n",
       "      <td>2018</td>\n",
       "      <td>NaN</td>\n",
       "      <td>Comedy,Drama</td>\n",
       "    </tr>\n",
       "    <tr>\n",
       "      <th>4</th>\n",
       "      <td>tt0100275</td>\n",
       "      <td>The Wandering Soap Opera</td>\n",
       "      <td>La Telenovela Errante</td>\n",
       "      <td>2017</td>\n",
       "      <td>80.0</td>\n",
       "      <td>Comedy,Drama,Fantasy</td>\n",
       "    </tr>\n",
       "  </tbody>\n",
       "</table>\n",
       "</div>"
      ],
      "text/plain": [
       "    movie_id                    primary_title              original_title  \\\n",
       "0  tt0063540                        Sunghursh                   Sunghursh   \n",
       "1  tt0066787  One Day Before the Rainy Season             Ashad Ka Ek Din   \n",
       "2  tt0069049       The Other Side of the Wind  The Other Side of the Wind   \n",
       "3  tt0069204                  Sabse Bada Sukh             Sabse Bada Sukh   \n",
       "4  tt0100275         The Wandering Soap Opera       La Telenovela Errante   \n",
       "\n",
       "   start_year  runtime_minutes                genres  \n",
       "0        2013            175.0    Action,Crime,Drama  \n",
       "1        2019            114.0       Biography,Drama  \n",
       "2        2018            122.0                 Drama  \n",
       "3        2018              NaN          Comedy,Drama  \n",
       "4        2017             80.0  Comedy,Drama,Fantasy  "
      ]
     },
     "execution_count": 10,
     "metadata": {},
     "output_type": "execute_result"
    }
   ],
   "source": [
    "# let's preview database data\n",
    "q1 = \"\"\"\n",
    "SELECT *\n",
    "FROM movie_basics;\n",
    "\"\"\"\n",
    "\n",
    "movie_basics = pd.read_sql(q1, conn)\n",
    "movie_basics.head()"
   ]
  },
  {
   "cell_type": "code",
   "execution_count": 11,
   "metadata": {},
   "outputs": [
    {
     "name": "stdout",
     "output_type": "stream",
     "text": [
      "<class 'pandas.core.frame.DataFrame'>\n",
      "RangeIndex: 146144 entries, 0 to 146143\n",
      "Data columns (total 6 columns):\n",
      " #   Column           Non-Null Count   Dtype  \n",
      "---  ------           --------------   -----  \n",
      " 0   movie_id         146144 non-null  object \n",
      " 1   primary_title    146144 non-null  object \n",
      " 2   original_title   146123 non-null  object \n",
      " 3   start_year       146144 non-null  int64  \n",
      " 4   runtime_minutes  114405 non-null  float64\n",
      " 5   genres           140736 non-null  object \n",
      "dtypes: float64(1), int64(1), object(4)\n",
      "memory usage: 6.7+ MB\n"
     ]
    }
   ],
   "source": [
    "#lets explore our movie basics table\n",
    "\n",
    "movie_basics.info()"
   ]
  },
  {
   "cell_type": "code",
   "execution_count": 12,
   "metadata": {},
   "outputs": [
    {
     "data": {
      "text/html": [
       "<div>\n",
       "<style scoped>\n",
       "    .dataframe tbody tr th:only-of-type {\n",
       "        vertical-align: middle;\n",
       "    }\n",
       "\n",
       "    .dataframe tbody tr th {\n",
       "        vertical-align: top;\n",
       "    }\n",
       "\n",
       "    .dataframe thead th {\n",
       "        text-align: right;\n",
       "    }\n",
       "</style>\n",
       "<table border=\"1\" class=\"dataframe\">\n",
       "  <thead>\n",
       "    <tr style=\"text-align: right;\">\n",
       "      <th></th>\n",
       "      <th>start_year</th>\n",
       "      <th>runtime_minutes</th>\n",
       "    </tr>\n",
       "  </thead>\n",
       "  <tbody>\n",
       "    <tr>\n",
       "      <th>count</th>\n",
       "      <td>146144.000000</td>\n",
       "      <td>114405.000000</td>\n",
       "    </tr>\n",
       "    <tr>\n",
       "      <th>mean</th>\n",
       "      <td>2014.621798</td>\n",
       "      <td>86.187247</td>\n",
       "    </tr>\n",
       "    <tr>\n",
       "      <th>std</th>\n",
       "      <td>2.733583</td>\n",
       "      <td>166.360590</td>\n",
       "    </tr>\n",
       "    <tr>\n",
       "      <th>min</th>\n",
       "      <td>2010.000000</td>\n",
       "      <td>1.000000</td>\n",
       "    </tr>\n",
       "    <tr>\n",
       "      <th>25%</th>\n",
       "      <td>2012.000000</td>\n",
       "      <td>70.000000</td>\n",
       "    </tr>\n",
       "    <tr>\n",
       "      <th>50%</th>\n",
       "      <td>2015.000000</td>\n",
       "      <td>87.000000</td>\n",
       "    </tr>\n",
       "    <tr>\n",
       "      <th>75%</th>\n",
       "      <td>2017.000000</td>\n",
       "      <td>99.000000</td>\n",
       "    </tr>\n",
       "    <tr>\n",
       "      <th>max</th>\n",
       "      <td>2115.000000</td>\n",
       "      <td>51420.000000</td>\n",
       "    </tr>\n",
       "  </tbody>\n",
       "</table>\n",
       "</div>"
      ],
      "text/plain": [
       "          start_year  runtime_minutes\n",
       "count  146144.000000    114405.000000\n",
       "mean     2014.621798        86.187247\n",
       "std         2.733583       166.360590\n",
       "min      2010.000000         1.000000\n",
       "25%      2012.000000        70.000000\n",
       "50%      2015.000000        87.000000\n",
       "75%      2017.000000        99.000000\n",
       "max      2115.000000     51420.000000"
      ]
     },
     "execution_count": 12,
     "metadata": {},
     "output_type": "execute_result"
    }
   ],
   "source": [
    "movie_basics.describe()"
   ]
  },
  {
   "cell_type": "markdown",
   "metadata": {},
   "source": [
    "Our main table gross_df has 3118 records\n",
    "\n",
    "There seems to be movie with year 2115 could this be a data entry issue but we not be using this as a variable for our analysis\n",
    "\n",
    "Also, there movies that show to be 1 minute and 51420 minutes, this seems wrong. We could remove these outliers they are far from the mean "
   ]
  },
  {
   "cell_type": "code",
   "execution_count": 13,
   "metadata": {},
   "outputs": [
    {
     "data": {
      "text/plain": [
       "movie_id               0\n",
       "primary_title          0\n",
       "original_title        21\n",
       "start_year             0\n",
       "runtime_minutes    31739\n",
       "genres              5408\n",
       "dtype: int64"
      ]
     },
     "execution_count": 13,
     "metadata": {},
     "output_type": "execute_result"
    }
   ],
   "source": [
    "#are there nulls on the primary_title because that is our common column to the gross_df\n",
    "movie_basics.isnull().sum()"
   ]
  },
  {
   "cell_type": "markdown",
   "metadata": {},
   "source": [
    "Great, primary title has no nulls\n",
    "\n",
    "There is a number of null values on the genres column which we will be using"
   ]
  },
  {
   "cell_type": "code",
   "execution_count": 14,
   "metadata": {},
   "outputs": [
    {
     "data": {
      "text/plain": [
       "movie_id            object\n",
       "primary_title       object\n",
       "original_title      object\n",
       "start_year           int64\n",
       "runtime_minutes    float64\n",
       "genres              object\n",
       "dtype: object"
      ]
     },
     "execution_count": 14,
     "metadata": {},
     "output_type": "execute_result"
    }
   ],
   "source": [
    "movie_basics.dtypes"
   ]
  },
  {
   "cell_type": "code",
   "execution_count": 15,
   "metadata": {},
   "outputs": [
    {
     "data": {
      "text/html": [
       "<div>\n",
       "<style scoped>\n",
       "    .dataframe tbody tr th:only-of-type {\n",
       "        vertical-align: middle;\n",
       "    }\n",
       "\n",
       "    .dataframe tbody tr th {\n",
       "        vertical-align: top;\n",
       "    }\n",
       "\n",
       "    .dataframe thead th {\n",
       "        text-align: right;\n",
       "    }\n",
       "</style>\n",
       "<table border=\"1\" class=\"dataframe\">\n",
       "  <thead>\n",
       "    <tr style=\"text-align: right;\">\n",
       "      <th></th>\n",
       "      <th>movie_id</th>\n",
       "      <th>averagerating</th>\n",
       "      <th>numvotes</th>\n",
       "    </tr>\n",
       "  </thead>\n",
       "  <tbody>\n",
       "    <tr>\n",
       "      <th>0</th>\n",
       "      <td>tt10356526</td>\n",
       "      <td>8.3</td>\n",
       "      <td>31</td>\n",
       "    </tr>\n",
       "    <tr>\n",
       "      <th>1</th>\n",
       "      <td>tt10384606</td>\n",
       "      <td>8.9</td>\n",
       "      <td>559</td>\n",
       "    </tr>\n",
       "    <tr>\n",
       "      <th>2</th>\n",
       "      <td>tt1042974</td>\n",
       "      <td>6.4</td>\n",
       "      <td>20</td>\n",
       "    </tr>\n",
       "    <tr>\n",
       "      <th>3</th>\n",
       "      <td>tt1043726</td>\n",
       "      <td>4.2</td>\n",
       "      <td>50352</td>\n",
       "    </tr>\n",
       "    <tr>\n",
       "      <th>4</th>\n",
       "      <td>tt1060240</td>\n",
       "      <td>6.5</td>\n",
       "      <td>21</td>\n",
       "    </tr>\n",
       "  </tbody>\n",
       "</table>\n",
       "</div>"
      ],
      "text/plain": [
       "     movie_id  averagerating  numvotes\n",
       "0  tt10356526            8.3        31\n",
       "1  tt10384606            8.9       559\n",
       "2   tt1042974            6.4        20\n",
       "3   tt1043726            4.2     50352\n",
       "4   tt1060240            6.5        21"
      ]
     },
     "execution_count": 15,
     "metadata": {},
     "output_type": "execute_result"
    }
   ],
   "source": [
    "#let's preview movie_ratings table\n",
    "\n",
    "q2 = \"\"\"\n",
    "SELECT *\n",
    "FROM movie_ratings;\n",
    "\"\"\"\n",
    "\n",
    "movie_ratings = pd.read_sql(q2, conn)\n",
    "movie_ratings.head()"
   ]
  },
  {
   "cell_type": "code",
   "execution_count": 16,
   "metadata": {},
   "outputs": [
    {
     "name": "stdout",
     "output_type": "stream",
     "text": [
      "<class 'pandas.core.frame.DataFrame'>\n",
      "RangeIndex: 73856 entries, 0 to 73855\n",
      "Data columns (total 3 columns):\n",
      " #   Column         Non-Null Count  Dtype  \n",
      "---  ------         --------------  -----  \n",
      " 0   movie_id       73856 non-null  object \n",
      " 1   averagerating  73856 non-null  float64\n",
      " 2   numvotes       73856 non-null  int64  \n",
      "dtypes: float64(1), int64(1), object(1)\n",
      "memory usage: 1.7+ MB\n"
     ]
    }
   ],
   "source": [
    "movie_ratings.info()"
   ]
  },
  {
   "cell_type": "code",
   "execution_count": 17,
   "metadata": {},
   "outputs": [
    {
     "data": {
      "text/plain": [
       "movie_id         0\n",
       "averagerating    0\n",
       "numvotes         0\n",
       "dtype: int64"
      ]
     },
     "execution_count": 17,
     "metadata": {},
     "output_type": "execute_result"
    }
   ],
   "source": [
    "movie_ratings.isnull().sum()"
   ]
  },
  {
   "cell_type": "code",
   "execution_count": 18,
   "metadata": {},
   "outputs": [
    {
     "data": {
      "text/plain": [
       "movie_id          object\n",
       "averagerating    float64\n",
       "numvotes           int64\n",
       "dtype: object"
      ]
     },
     "execution_count": 18,
     "metadata": {},
     "output_type": "execute_result"
    }
   ],
   "source": [
    "movie_ratings.dtypes"
   ]
  },
  {
   "cell_type": "markdown",
   "metadata": {},
   "source": [
    "## 5. Data Cleaning and Preparation\n",
    "\n",
    "We are going to clean our data and prepare it for analysis."
   ]
  },
  {
   "cell_type": "code",
   "execution_count": 19,
   "metadata": {},
   "outputs": [
    {
     "data": {
      "text/plain": [
       "dtype('O')"
      ]
     },
     "execution_count": 19,
     "metadata": {},
     "output_type": "execute_result"
    }
   ],
   "source": [
    "#let's start by correcting foreign gross datatype\n",
    "gross_df['foreign_gross'].dtype"
   ]
  },
  {
   "cell_type": "code",
   "execution_count": 20,
   "metadata": {},
   "outputs": [],
   "source": [
    "#change foreign gross datatype to float\n",
    "\n",
    "# remove commas making the column to seen as a string\n",
    "gross_df['foreign_gross'] = gross_df['foreign_gross'].str.replace(\",\" ,\"\")\n",
    "\n",
    "#change datatype to float\n",
    "gross_df['foreign_gross'] = gross_df['foreign_gross'].astype(float)"
   ]
  },
  {
   "cell_type": "code",
   "execution_count": 21,
   "metadata": {},
   "outputs": [
    {
     "data": {
      "text/plain": [
       "title              object\n",
       "studio             object\n",
       "domestic_gross    float64\n",
       "foreign_gross     float64\n",
       "year                int64\n",
       "dtype: object"
      ]
     },
     "execution_count": 21,
     "metadata": {},
     "output_type": "execute_result"
    }
   ],
   "source": [
    "#let's check the column datatypes\n",
    "gross_df.dtypes"
   ]
  },
  {
   "cell_type": "code",
   "execution_count": 22,
   "metadata": {},
   "outputs": [
    {
     "data": {
      "text/html": [
       "<div>\n",
       "<style scoped>\n",
       "    .dataframe tbody tr th:only-of-type {\n",
       "        vertical-align: middle;\n",
       "    }\n",
       "\n",
       "    .dataframe tbody tr th {\n",
       "        vertical-align: top;\n",
       "    }\n",
       "\n",
       "    .dataframe thead th {\n",
       "        text-align: right;\n",
       "    }\n",
       "</style>\n",
       "<table border=\"1\" class=\"dataframe\">\n",
       "  <thead>\n",
       "    <tr style=\"text-align: right;\">\n",
       "      <th></th>\n",
       "      <th>domestic_gross</th>\n",
       "      <th>foreign_gross</th>\n",
       "      <th>year</th>\n",
       "    </tr>\n",
       "  </thead>\n",
       "  <tbody>\n",
       "    <tr>\n",
       "      <th>count</th>\n",
       "      <td>3.359000e+03</td>\n",
       "      <td>2.037000e+03</td>\n",
       "      <td>3387.000000</td>\n",
       "    </tr>\n",
       "    <tr>\n",
       "      <th>mean</th>\n",
       "      <td>2.874585e+07</td>\n",
       "      <td>7.487281e+07</td>\n",
       "      <td>2013.958075</td>\n",
       "    </tr>\n",
       "    <tr>\n",
       "      <th>std</th>\n",
       "      <td>6.698250e+07</td>\n",
       "      <td>1.374106e+08</td>\n",
       "      <td>2.478141</td>\n",
       "    </tr>\n",
       "    <tr>\n",
       "      <th>min</th>\n",
       "      <td>1.000000e+02</td>\n",
       "      <td>6.000000e+02</td>\n",
       "      <td>2010.000000</td>\n",
       "    </tr>\n",
       "    <tr>\n",
       "      <th>25%</th>\n",
       "      <td>1.200000e+05</td>\n",
       "      <td>3.700000e+06</td>\n",
       "      <td>2012.000000</td>\n",
       "    </tr>\n",
       "    <tr>\n",
       "      <th>50%</th>\n",
       "      <td>1.400000e+06</td>\n",
       "      <td>1.870000e+07</td>\n",
       "      <td>2014.000000</td>\n",
       "    </tr>\n",
       "    <tr>\n",
       "      <th>75%</th>\n",
       "      <td>2.790000e+07</td>\n",
       "      <td>7.490000e+07</td>\n",
       "      <td>2016.000000</td>\n",
       "    </tr>\n",
       "    <tr>\n",
       "      <th>max</th>\n",
       "      <td>9.367000e+08</td>\n",
       "      <td>9.605000e+08</td>\n",
       "      <td>2018.000000</td>\n",
       "    </tr>\n",
       "  </tbody>\n",
       "</table>\n",
       "</div>"
      ],
      "text/plain": [
       "       domestic_gross  foreign_gross         year\n",
       "count    3.359000e+03   2.037000e+03  3387.000000\n",
       "mean     2.874585e+07   7.487281e+07  2013.958075\n",
       "std      6.698250e+07   1.374106e+08     2.478141\n",
       "min      1.000000e+02   6.000000e+02  2010.000000\n",
       "25%      1.200000e+05   3.700000e+06  2012.000000\n",
       "50%      1.400000e+06   1.870000e+07  2014.000000\n",
       "75%      2.790000e+07   7.490000e+07  2016.000000\n",
       "max      9.367000e+08   9.605000e+08  2018.000000"
      ]
     },
     "execution_count": 22,
     "metadata": {},
     "output_type": "execute_result"
    }
   ],
   "source": [
    "#statistical summary\n",
    "gross_df.describe()"
   ]
  },
  {
   "cell_type": "markdown",
   "metadata": {},
   "source": [
    "Great, all the numeric columns are good now."
   ]
  },
  {
   "cell_type": "code",
   "execution_count": 23,
   "metadata": {},
   "outputs": [
    {
     "data": {
      "text/plain": [
       "False    3386\n",
       "True        1\n",
       "Name: title, dtype: int64"
      ]
     },
     "execution_count": 23,
     "metadata": {},
     "output_type": "execute_result"
    }
   ],
   "source": [
    "#let's check if any of the movies are duplicated\n",
    "\n",
    "gross_df['title'].duplicated().value_counts()"
   ]
  },
  {
   "cell_type": "markdown",
   "metadata": {},
   "source": [
    "There seem to be one film that is duplicated, we will drop this record."
   ]
  },
  {
   "cell_type": "code",
   "execution_count": 24,
   "metadata": {},
   "outputs": [],
   "source": [
    "#drop duplicate title\n",
    "gross_df.drop_duplicates(subset=['title'], inplace=True)"
   ]
  },
  {
   "cell_type": "code",
   "execution_count": 25,
   "metadata": {},
   "outputs": [
    {
     "data": {
      "text/plain": [
       "2015    450\n",
       "2016    436\n",
       "2012    400\n",
       "2011    399\n",
       "2014    395\n",
       "2013    350\n",
       "2010    328\n",
       "2017    320\n",
       "2018    308\n",
       "Name: year, dtype: int64"
      ]
     },
     "execution_count": 25,
     "metadata": {},
     "output_type": "execute_result"
    }
   ],
   "source": [
    "#the years for our dataset\n",
    "gross_df['year'].value_counts()"
   ]
  },
  {
   "cell_type": "code",
   "execution_count": 26,
   "metadata": {},
   "outputs": [
    {
     "data": {
      "text/plain": [
       "title             0.000000\n",
       "studio            0.001477\n",
       "domestic_gross    0.008269\n",
       "foreign_gross     0.398405\n",
       "year              0.000000\n",
       "dtype: float64"
      ]
     },
     "execution_count": 26,
     "metadata": {},
     "output_type": "execute_result"
    }
   ],
   "source": [
    "# lets check quantity of null values in our columns \n",
    "gross_df.isnull().mean()"
   ]
  },
  {
   "cell_type": "markdown",
   "metadata": {},
   "source": [
    "The foreign_gross column has a high number of null values."
   ]
  },
  {
   "cell_type": "code",
   "execution_count": 27,
   "metadata": {},
   "outputs": [
    {
     "data": {
      "text/html": [
       "<div>\n",
       "<style scoped>\n",
       "    .dataframe tbody tr th:only-of-type {\n",
       "        vertical-align: middle;\n",
       "    }\n",
       "\n",
       "    .dataframe tbody tr th {\n",
       "        vertical-align: top;\n",
       "    }\n",
       "\n",
       "    .dataframe thead th {\n",
       "        text-align: right;\n",
       "    }\n",
       "</style>\n",
       "<table border=\"1\" class=\"dataframe\">\n",
       "  <thead>\n",
       "    <tr style=\"text-align: right;\">\n",
       "      <th></th>\n",
       "      <th>title</th>\n",
       "      <th>studio</th>\n",
       "      <th>domestic_gross</th>\n",
       "      <th>foreign_gross</th>\n",
       "      <th>year</th>\n",
       "    </tr>\n",
       "  </thead>\n",
       "  <tbody>\n",
       "  </tbody>\n",
       "</table>\n",
       "</div>"
      ],
      "text/plain": [
       "Empty DataFrame\n",
       "Columns: [title, studio, domestic_gross, foreign_gross, year]\n",
       "Index: []"
      ]
     },
     "execution_count": 27,
     "metadata": {},
     "output_type": "execute_result"
    }
   ],
   "source": [
    "#lets check to see if rows with null domestic gross are also null on the foreign gross column. \n",
    "# if so we can drop this columns\n",
    "\n",
    "gross_df[(gross_df['domestic_gross'].isnull() == True) & (gross_df['foreign_gross'].isnull() == True)]"
   ]
  },
  {
   "cell_type": "markdown",
   "metadata": {},
   "source": [
    "It seems all rows with null domestic values have foreign gross values\n",
    "\n",
    "Maybe these films did not sell domestically but were instead made for the foreign market"
   ]
  },
  {
   "cell_type": "code",
   "execution_count": 28,
   "metadata": {},
   "outputs": [
    {
     "data": {
      "text/html": [
       "<div>\n",
       "<style scoped>\n",
       "    .dataframe tbody tr th:only-of-type {\n",
       "        vertical-align: middle;\n",
       "    }\n",
       "\n",
       "    .dataframe tbody tr th {\n",
       "        vertical-align: top;\n",
       "    }\n",
       "\n",
       "    .dataframe thead th {\n",
       "        text-align: right;\n",
       "    }\n",
       "</style>\n",
       "<table border=\"1\" class=\"dataframe\">\n",
       "  <thead>\n",
       "    <tr style=\"text-align: right;\">\n",
       "      <th></th>\n",
       "      <th>title</th>\n",
       "      <th>studio</th>\n",
       "      <th>domestic_gross</th>\n",
       "      <th>foreign_gross</th>\n",
       "      <th>year</th>\n",
       "    </tr>\n",
       "  </thead>\n",
       "  <tbody>\n",
       "    <tr>\n",
       "      <th>210</th>\n",
       "      <td>Outside the Law (Hors-la-loi)</td>\n",
       "      <td>NaN</td>\n",
       "      <td>96900.0</td>\n",
       "      <td>3300000.0</td>\n",
       "      <td>2010</td>\n",
       "    </tr>\n",
       "    <tr>\n",
       "      <th>555</th>\n",
       "      <td>Fireflies in the Garden</td>\n",
       "      <td>NaN</td>\n",
       "      <td>70600.0</td>\n",
       "      <td>3300000.0</td>\n",
       "      <td>2011</td>\n",
       "    </tr>\n",
       "    <tr>\n",
       "      <th>933</th>\n",
       "      <td>Keith Lemon: The Film</td>\n",
       "      <td>NaN</td>\n",
       "      <td>NaN</td>\n",
       "      <td>4000000.0</td>\n",
       "      <td>2012</td>\n",
       "    </tr>\n",
       "    <tr>\n",
       "      <th>1862</th>\n",
       "      <td>Plot for Peace</td>\n",
       "      <td>NaN</td>\n",
       "      <td>7100.0</td>\n",
       "      <td>NaN</td>\n",
       "      <td>2014</td>\n",
       "    </tr>\n",
       "    <tr>\n",
       "      <th>2825</th>\n",
       "      <td>Secret Superstar</td>\n",
       "      <td>NaN</td>\n",
       "      <td>NaN</td>\n",
       "      <td>122000000.0</td>\n",
       "      <td>2017</td>\n",
       "    </tr>\n",
       "  </tbody>\n",
       "</table>\n",
       "</div>"
      ],
      "text/plain": [
       "                              title studio  domestic_gross  foreign_gross  \\\n",
       "210   Outside the Law (Hors-la-loi)    NaN         96900.0      3300000.0   \n",
       "555         Fireflies in the Garden    NaN         70600.0      3300000.0   \n",
       "933           Keith Lemon: The Film    NaN             NaN      4000000.0   \n",
       "1862                 Plot for Peace    NaN          7100.0            NaN   \n",
       "2825               Secret Superstar    NaN             NaN    122000000.0   \n",
       "\n",
       "      year  \n",
       "210   2010  \n",
       "555   2011  \n",
       "933   2012  \n",
       "1862  2014  \n",
       "2825  2017  "
      ]
     },
     "execution_count": 28,
     "metadata": {},
     "output_type": "execute_result"
    }
   ],
   "source": [
    "gross_df[gross_df['studio'].isnull() == True]"
   ]
  },
  {
   "cell_type": "markdown",
   "metadata": {},
   "source": [
    "Lets make the null studio records a category and keep this data\n",
    "\n",
    "Replace the 5 records with no domestic gross values with mean of the column as every movies has to sell domestically first\n",
    "\n",
    "Replace null values in the foreign columns with zero as the number of nulls is quite big and not all movies sell in international markets. \n",
    "\n",
    "We'll majorly use domestic gross as it has more conclusive data"
   ]
  },
  {
   "cell_type": "code",
   "execution_count": 29,
   "metadata": {},
   "outputs": [],
   "source": [
    "# fix null values\n",
    "\n",
    "gross_df['studio'].replace({np.nan: 'Unknown'}, inplace=True)\n",
    "gross_df['domestic_gross'].replace({np.nan: gross_df['domestic_gross'].mean()}, inplace=True)\n",
    "gross_df['foreign_gross'].replace({np.nan: 0}, inplace=True)"
   ]
  },
  {
   "cell_type": "code",
   "execution_count": 30,
   "metadata": {},
   "outputs": [
    {
     "data": {
      "text/plain": [
       "Text(0.5, 1.0, 'Movie Gross Revenues')"
      ]
     },
     "execution_count": 30,
     "metadata": {},
     "output_type": "execute_result"
    },
    {
     "data": {
      "image/png": "[encoded data removed]",
      "text/plain": [
       "<Figure size 432x288 with 1 Axes>"
      ]
     },
     "metadata": {
      "needs_background": "light"
     },
     "output_type": "display_data"
    }
   ],
   "source": [
    "#lets check for outliers in the gross revenues\n",
    "\n",
    "data_col = ['domestic_gross','foreign_gross']\n",
    "sns.boxplot(data=gross_df[data_col])\n",
    "plt.title('Movie Gross Revenues')"
   ]
  },
  {
   "cell_type": "markdown",
   "metadata": {},
   "source": [
    "The data shows to have multiple outlier datapoints above upper whisker which are consistent.\n",
    "\n",
    "This tough is very possible in the real world as there are movies that do perform way better than most and the revenues could vary that much"
   ]
  },
  {
   "cell_type": "code",
   "execution_count": 31,
   "metadata": {},
   "outputs": [],
   "source": [
    "#lets also add a worlwide gross column to have a summation of both domestic and gross values\n",
    "\n",
    "gross_df['worldwide_gross'] = gross_df['domestic_gross'] + gross_df['foreign_gross']"
   ]
  },
  {
   "cell_type": "code",
   "execution_count": 32,
   "metadata": {},
   "outputs": [
    {
     "name": "stdout",
     "output_type": "stream",
     "text": [
      "<class 'pandas.core.frame.DataFrame'>\n",
      "Int64Index: 3386 entries, 0 to 3386\n",
      "Data columns (total 6 columns):\n",
      " #   Column           Non-Null Count  Dtype  \n",
      "---  ------           --------------  -----  \n",
      " 0   title            3386 non-null   object \n",
      " 1   studio           3386 non-null   object \n",
      " 2   domestic_gross   3386 non-null   float64\n",
      " 3   foreign_gross    3386 non-null   float64\n",
      " 4   year             3386 non-null   int64  \n",
      " 5   worldwide_gross  3386 non-null   float64\n",
      "dtypes: float64(3), int64(1), object(2)\n",
      "memory usage: 185.2+ KB\n"
     ]
    }
   ],
   "source": [
    "#lets preview our final dataset\n",
    "gross_df.info()"
   ]
  },
  {
   "cell_type": "code",
   "execution_count": 33,
   "metadata": {},
   "outputs": [
    {
     "data": {
      "text/html": [
       "<div>\n",
       "<style scoped>\n",
       "    .dataframe tbody tr th:only-of-type {\n",
       "        vertical-align: middle;\n",
       "    }\n",
       "\n",
       "    .dataframe tbody tr th {\n",
       "        vertical-align: top;\n",
       "    }\n",
       "\n",
       "    .dataframe thead th {\n",
       "        text-align: right;\n",
       "    }\n",
       "</style>\n",
       "<table border=\"1\" class=\"dataframe\">\n",
       "  <thead>\n",
       "    <tr style=\"text-align: right;\">\n",
       "      <th></th>\n",
       "      <th>title</th>\n",
       "      <th>studio</th>\n",
       "      <th>domestic_gross</th>\n",
       "      <th>foreign_gross</th>\n",
       "      <th>year</th>\n",
       "      <th>worldwide_gross</th>\n",
       "    </tr>\n",
       "  </thead>\n",
       "  <tbody>\n",
       "    <tr>\n",
       "      <th>0</th>\n",
       "      <td>Toy Story 3</td>\n",
       "      <td>BV</td>\n",
       "      <td>415000000.0</td>\n",
       "      <td>652000000.0</td>\n",
       "      <td>2010</td>\n",
       "      <td>1.067000e+09</td>\n",
       "    </tr>\n",
       "    <tr>\n",
       "      <th>1</th>\n",
       "      <td>Alice in Wonderland (2010)</td>\n",
       "      <td>BV</td>\n",
       "      <td>334200000.0</td>\n",
       "      <td>691300000.0</td>\n",
       "      <td>2010</td>\n",
       "      <td>1.025500e+09</td>\n",
       "    </tr>\n",
       "    <tr>\n",
       "      <th>2</th>\n",
       "      <td>Harry Potter and the Deathly Hallows Part 1</td>\n",
       "      <td>WB</td>\n",
       "      <td>296000000.0</td>\n",
       "      <td>664300000.0</td>\n",
       "      <td>2010</td>\n",
       "      <td>9.603000e+08</td>\n",
       "    </tr>\n",
       "    <tr>\n",
       "      <th>3</th>\n",
       "      <td>Inception</td>\n",
       "      <td>WB</td>\n",
       "      <td>292600000.0</td>\n",
       "      <td>535700000.0</td>\n",
       "      <td>2010</td>\n",
       "      <td>8.283000e+08</td>\n",
       "    </tr>\n",
       "    <tr>\n",
       "      <th>4</th>\n",
       "      <td>Shrek Forever After</td>\n",
       "      <td>P/DW</td>\n",
       "      <td>238700000.0</td>\n",
       "      <td>513900000.0</td>\n",
       "      <td>2010</td>\n",
       "      <td>7.526000e+08</td>\n",
       "    </tr>\n",
       "  </tbody>\n",
       "</table>\n",
       "</div>"
      ],
      "text/plain": [
       "                                         title studio  domestic_gross  \\\n",
       "0                                  Toy Story 3     BV     415000000.0   \n",
       "1                   Alice in Wonderland (2010)     BV     334200000.0   \n",
       "2  Harry Potter and the Deathly Hallows Part 1     WB     296000000.0   \n",
       "3                                    Inception     WB     292600000.0   \n",
       "4                          Shrek Forever After   P/DW     238700000.0   \n",
       "\n",
       "   foreign_gross  year  worldwide_gross  \n",
       "0    652000000.0  2010     1.067000e+09  \n",
       "1    691300000.0  2010     1.025500e+09  \n",
       "2    664300000.0  2010     9.603000e+08  \n",
       "3    535700000.0  2010     8.283000e+08  \n",
       "4    513900000.0  2010     7.526000e+08  "
      ]
     },
     "execution_count": 33,
     "metadata": {},
     "output_type": "execute_result"
    }
   ],
   "source": [
    "gross_df.head()"
   ]
  },
  {
   "cell_type": "markdown",
   "metadata": {},
   "source": [
    "On to our sql tables"
   ]
  },
  {
   "cell_type": "code",
   "execution_count": 34,
   "metadata": {},
   "outputs": [
    {
     "data": {
      "text/plain": [
       "movie_id               0\n",
       "primary_title          0\n",
       "original_title        21\n",
       "start_year             0\n",
       "runtime_minutes    31739\n",
       "genres              5408\n",
       "dtype: int64"
      ]
     },
     "execution_count": 34,
     "metadata": {},
     "output_type": "execute_result"
    }
   ],
   "source": [
    "# lets check sum of nulls per column\n",
    "movie_basics.isnull().sum()"
   ]
  },
  {
   "cell_type": "markdown",
   "metadata": {},
   "source": [
    "Let's remove the outliers on runtime column before we deal with the null values."
   ]
  },
  {
   "cell_type": "code",
   "execution_count": 35,
   "metadata": {},
   "outputs": [
    {
     "data": {
      "text/plain": [
       "count    114405.000000\n",
       "mean         86.187247\n",
       "std         166.360590\n",
       "min           1.000000\n",
       "25%          70.000000\n",
       "50%          87.000000\n",
       "75%          99.000000\n",
       "max       51420.000000\n",
       "Name: runtime_minutes, dtype: float64"
      ]
     },
     "execution_count": 35,
     "metadata": {},
     "output_type": "execute_result"
    }
   ],
   "source": [
    "movie_basics['runtime_minutes'].describe()"
   ]
  },
  {
   "cell_type": "code",
   "execution_count": 36,
   "metadata": {},
   "outputs": [
    {
     "data": {
      "text/plain": [
       "Text(0.5, 1.0, 'Movie Runtimes(min)')"
      ]
     },
     "execution_count": 36,
     "metadata": {},
     "output_type": "execute_result"
    },
    {
     "data": {
      "image/png": "[encoded data removed]",
      "text/plain": [
       "<Figure size 432x288 with 1 Axes>"
      ]
     },
     "metadata": {
      "needs_background": "light"
     },
     "output_type": "display_data"
    }
   ],
   "source": [
    "#lets check for outliers in the movie runtimes\n",
    "\n",
    "sns.boxplot(data=movie_basics['runtime_minutes'])\n",
    "plt.title('Movie Runtimes(min)')"
   ]
  },
  {
   "cell_type": "markdown",
   "metadata": {},
   "source": [
    "It seems few movies have very high runtimes. We will remove this outliers"
   ]
  },
  {
   "cell_type": "code",
   "execution_count": 37,
   "metadata": {},
   "outputs": [],
   "source": [
    "# calculate percentiles for the runtime column\n",
    "Q1 = movie_basics['runtime_minutes'].quantile(0.25)\n",
    "Q3 = movie_basics['runtime_minutes'].quantile(0.75)\n",
    "IQR = Q3 - Q1\n",
    "\n",
    "# identify outliers (those outside of 1.5 times the IQR below Q1 or above Q3)\n",
    "runtime_outliers = (movie_basics['runtime_minutes'] < Q1 - 1.5*IQR) | (movie_basics['runtime_minutes'] > Q3 + 1.5*IQR)\n",
    "\n",
    "# remove outliers from the dataframe\n",
    "movie_basics = movie_basics[~runtime_outliers]"
   ]
  },
  {
   "cell_type": "code",
   "execution_count": 38,
   "metadata": {},
   "outputs": [
    {
     "data": {
      "text/plain": [
       "Text(0.5, 1.0, 'Movie Runtimes(min)')"
      ]
     },
     "execution_count": 38,
     "metadata": {},
     "output_type": "execute_result"
    },
    {
     "data": {
      "image/png": "[encoded data removed]",
      "text/plain": [
       "<Figure size 432x288 with 1 Axes>"
      ]
     },
     "metadata": {
      "needs_background": "light"
     },
     "output_type": "display_data"
    }
   ],
   "source": [
    "#lets plot again and see if outliers have been removed\n",
    "\n",
    "sns.boxplot(data=movie_basics['runtime_minutes'].reset_index(drop=True))\n",
    "plt.title('Movie Runtimes(min)')"
   ]
  },
  {
   "cell_type": "raw",
   "metadata": {},
   "source": [
    "Great, the outliers have been removed."
   ]
  },
  {
   "cell_type": "code",
   "execution_count": 39,
   "metadata": {},
   "outputs": [
    {
     "data": {
      "text/plain": [
       "126"
      ]
     },
     "execution_count": 39,
     "metadata": {},
     "output_type": "execute_result"
    }
   ],
   "source": [
    "#let's check for duplicate records\n",
    "\n",
    "movie_basics[['primary_title','start_year','runtime_minutes','genres']].duplicated().sum()"
   ]
  },
  {
   "cell_type": "code",
   "execution_count": 40,
   "metadata": {},
   "outputs": [
    {
     "data": {
      "text/html": [
       "<div>\n",
       "<style scoped>\n",
       "    .dataframe tbody tr th:only-of-type {\n",
       "        vertical-align: middle;\n",
       "    }\n",
       "\n",
       "    .dataframe tbody tr th {\n",
       "        vertical-align: top;\n",
       "    }\n",
       "\n",
       "    .dataframe thead th {\n",
       "        text-align: right;\n",
       "    }\n",
       "</style>\n",
       "<table border=\"1\" class=\"dataframe\">\n",
       "  <thead>\n",
       "    <tr style=\"text-align: right;\">\n",
       "      <th></th>\n",
       "      <th>movie_id</th>\n",
       "      <th>primary_title</th>\n",
       "      <th>original_title</th>\n",
       "      <th>start_year</th>\n",
       "      <th>runtime_minutes</th>\n",
       "      <th>genres</th>\n",
       "    </tr>\n",
       "  </thead>\n",
       "  <tbody>\n",
       "    <tr>\n",
       "      <th>948</th>\n",
       "      <td>tt10064536</td>\n",
       "      <td>Untitled Disney Marvel Film</td>\n",
       "      <td>Untitled Disney Marvel Film</td>\n",
       "      <td>2022</td>\n",
       "      <td>NaN</td>\n",
       "      <td>Action</td>\n",
       "    </tr>\n",
       "    <tr>\n",
       "      <th>949</th>\n",
       "      <td>tt10064558</td>\n",
       "      <td>Untitled Marvel Film</td>\n",
       "      <td>Untitled Marvel Film</td>\n",
       "      <td>2021</td>\n",
       "      <td>NaN</td>\n",
       "      <td>Action</td>\n",
       "    </tr>\n",
       "    <tr>\n",
       "      <th>1478</th>\n",
       "      <td>tt10127292</td>\n",
       "      <td>Plushtubers: The Apocalypse</td>\n",
       "      <td>Plushtubers: The Apocalypse</td>\n",
       "      <td>2019</td>\n",
       "      <td>NaN</td>\n",
       "      <td>Action,Adventure</td>\n",
       "    </tr>\n",
       "    <tr>\n",
       "      <th>2286</th>\n",
       "      <td>tt10230042</td>\n",
       "      <td>Rok Sako To Rok Lo</td>\n",
       "      <td>Rok Sako To Rok Lo</td>\n",
       "      <td>2018</td>\n",
       "      <td>NaN</td>\n",
       "      <td>Comedy</td>\n",
       "    </tr>\n",
       "    <tr>\n",
       "      <th>2303</th>\n",
       "      <td>tt10230622</td>\n",
       "      <td>Aitebaar</td>\n",
       "      <td>Aitebaar</td>\n",
       "      <td>2017</td>\n",
       "      <td>80.0</td>\n",
       "      <td>Comedy</td>\n",
       "    </tr>\n",
       "    <tr>\n",
       "      <th>...</th>\n",
       "      <td>...</td>\n",
       "      <td>...</td>\n",
       "      <td>...</td>\n",
       "      <td>...</td>\n",
       "      <td>...</td>\n",
       "      <td>...</td>\n",
       "    </tr>\n",
       "    <tr>\n",
       "      <th>144016</th>\n",
       "      <td>tt9616952</td>\n",
       "      <td>View from the Past</td>\n",
       "      <td>View from the Past</td>\n",
       "      <td>2019</td>\n",
       "      <td>NaN</td>\n",
       "      <td>Sci-Fi</td>\n",
       "    </tr>\n",
       "    <tr>\n",
       "      <th>144392</th>\n",
       "      <td>tt9660588</td>\n",
       "      <td>3. Elma</td>\n",
       "      <td>3. Elma</td>\n",
       "      <td>2014</td>\n",
       "      <td>65.0</td>\n",
       "      <td>Drama</td>\n",
       "    </tr>\n",
       "    <tr>\n",
       "      <th>144622</th>\n",
       "      <td>tt9688944</td>\n",
       "      <td>Um fio de esperança: independência ou guerra n...</td>\n",
       "      <td>Um fio de esperança: independência ou guerra n...</td>\n",
       "      <td>2017</td>\n",
       "      <td>94.0</td>\n",
       "      <td>Documentary</td>\n",
       "    </tr>\n",
       "    <tr>\n",
       "      <th>145118</th>\n",
       "      <td>tt9773302</td>\n",
       "      <td>3. Elma</td>\n",
       "      <td>3. Elma</td>\n",
       "      <td>2014</td>\n",
       "      <td>65.0</td>\n",
       "      <td>Drama</td>\n",
       "    </tr>\n",
       "    <tr>\n",
       "      <th>145937</th>\n",
       "      <td>tt9889072</td>\n",
       "      <td>The Promise</td>\n",
       "      <td>The Promise</td>\n",
       "      <td>2017</td>\n",
       "      <td>NaN</td>\n",
       "      <td>Drama</td>\n",
       "    </tr>\n",
       "  </tbody>\n",
       "</table>\n",
       "<p>126 rows × 6 columns</p>\n",
       "</div>"
      ],
      "text/plain": [
       "          movie_id                                      primary_title  \\\n",
       "948     tt10064536                        Untitled Disney Marvel Film   \n",
       "949     tt10064558                               Untitled Marvel Film   \n",
       "1478    tt10127292                        Plushtubers: The Apocalypse   \n",
       "2286    tt10230042                                 Rok Sako To Rok Lo   \n",
       "2303    tt10230622                                           Aitebaar   \n",
       "...            ...                                                ...   \n",
       "144016   tt9616952                                 View from the Past   \n",
       "144392   tt9660588                                            3. Elma   \n",
       "144622   tt9688944  Um fio de esperança: independência ou guerra n...   \n",
       "145118   tt9773302                                            3. Elma   \n",
       "145937   tt9889072                                        The Promise   \n",
       "\n",
       "                                           original_title  start_year  \\\n",
       "948                           Untitled Disney Marvel Film        2022   \n",
       "949                                  Untitled Marvel Film        2021   \n",
       "1478                          Plushtubers: The Apocalypse        2019   \n",
       "2286                                   Rok Sako To Rok Lo        2018   \n",
       "2303                                             Aitebaar        2017   \n",
       "...                                                   ...         ...   \n",
       "144016                                 View from the Past        2019   \n",
       "144392                                            3. Elma        2014   \n",
       "144622  Um fio de esperança: independência ou guerra n...        2017   \n",
       "145118                                            3. Elma        2014   \n",
       "145937                                        The Promise        2017   \n",
       "\n",
       "        runtime_minutes            genres  \n",
       "948                 NaN            Action  \n",
       "949                 NaN            Action  \n",
       "1478                NaN  Action,Adventure  \n",
       "2286                NaN            Comedy  \n",
       "2303               80.0            Comedy  \n",
       "...                 ...               ...  \n",
       "144016              NaN            Sci-Fi  \n",
       "144392             65.0             Drama  \n",
       "144622             94.0       Documentary  \n",
       "145118             65.0             Drama  \n",
       "145937              NaN             Drama  \n",
       "\n",
       "[126 rows x 6 columns]"
      ]
     },
     "execution_count": 40,
     "metadata": {},
     "output_type": "execute_result"
    }
   ],
   "source": [
    "duplicates=movie_basics[(movie_basics.duplicated(['primary_title','start_year','runtime_minutes','genres'])==True)]\n",
    "duplicates"
   ]
  },
  {
   "cell_type": "markdown",
   "metadata": {},
   "source": [
    "We seem to have 126 duplicates, let's drop them"
   ]
  },
  {
   "cell_type": "code",
   "execution_count": 41,
   "metadata": {},
   "outputs": [
    {
     "data": {
      "text/plain": [
       "0"
      ]
     },
     "execution_count": 41,
     "metadata": {},
     "output_type": "execute_result"
    }
   ],
   "source": [
    "# remove duplicated rows\n",
    "movie_basics.drop_duplicates(subset=['primary_title','start_year','runtime_minutes','genres'], keep=\"first\", inplace=True)\n",
    "movie_basics.duplicated().sum() "
   ]
  },
  {
   "cell_type": "markdown",
   "metadata": {},
   "source": [
    "Great no duplicates"
   ]
  },
  {
   "cell_type": "code",
   "execution_count": 42,
   "metadata": {},
   "outputs": [],
   "source": [
    "#let's replace null genres with unknown\n",
    "#get average of runtime minutes to fill the runtime_null values as it is a small pecentage of data(21%) and we've\n",
    "#cleaned the column\n",
    "\n",
    "movie_basics['genres'].replace({np.nan: 'Unknown'}, inplace=True)\n",
    "movie_basics['runtime_minutes'].replace({np.nan: movie_basics['runtime_minutes'].mean()}, inplace=True)"
   ]
  },
  {
   "cell_type": "markdown",
   "metadata": {},
   "source": [
    "We have cleaned genres and runtime columns. \n",
    "\n",
    "Now let's drop original title we will not need this as we already have primary title with no null values and start year"
   ]
  },
  {
   "cell_type": "code",
   "execution_count": 43,
   "metadata": {},
   "outputs": [
    {
     "data": {
      "text/html": [
       "<div>\n",
       "<style scoped>\n",
       "    .dataframe tbody tr th:only-of-type {\n",
       "        vertical-align: middle;\n",
       "    }\n",
       "\n",
       "    .dataframe tbody tr th {\n",
       "        vertical-align: top;\n",
       "    }\n",
       "\n",
       "    .dataframe thead th {\n",
       "        text-align: right;\n",
       "    }\n",
       "</style>\n",
       "<table border=\"1\" class=\"dataframe\">\n",
       "  <thead>\n",
       "    <tr style=\"text-align: right;\">\n",
       "      <th></th>\n",
       "      <th>movie_id</th>\n",
       "      <th>primary_title</th>\n",
       "      <th>start_year</th>\n",
       "      <th>runtime_minutes</th>\n",
       "      <th>genres</th>\n",
       "    </tr>\n",
       "  </thead>\n",
       "  <tbody>\n",
       "    <tr>\n",
       "      <th>1</th>\n",
       "      <td>tt0066787</td>\n",
       "      <td>One Day Before the Rainy Season</td>\n",
       "      <td>2019</td>\n",
       "      <td>114.000000</td>\n",
       "      <td>Biography,Drama</td>\n",
       "    </tr>\n",
       "    <tr>\n",
       "      <th>2</th>\n",
       "      <td>tt0069049</td>\n",
       "      <td>The Other Side of the Wind</td>\n",
       "      <td>2018</td>\n",
       "      <td>122.000000</td>\n",
       "      <td>Drama</td>\n",
       "    </tr>\n",
       "    <tr>\n",
       "      <th>3</th>\n",
       "      <td>tt0069204</td>\n",
       "      <td>Sabse Bada Sukh</td>\n",
       "      <td>2018</td>\n",
       "      <td>85.100092</td>\n",
       "      <td>Comedy,Drama</td>\n",
       "    </tr>\n",
       "    <tr>\n",
       "      <th>4</th>\n",
       "      <td>tt0100275</td>\n",
       "      <td>The Wandering Soap Opera</td>\n",
       "      <td>2017</td>\n",
       "      <td>80.000000</td>\n",
       "      <td>Comedy,Drama,Fantasy</td>\n",
       "    </tr>\n",
       "    <tr>\n",
       "      <th>5</th>\n",
       "      <td>tt0111414</td>\n",
       "      <td>A Thin Life</td>\n",
       "      <td>2018</td>\n",
       "      <td>75.000000</td>\n",
       "      <td>Comedy</td>\n",
       "    </tr>\n",
       "  </tbody>\n",
       "</table>\n",
       "</div>"
      ],
      "text/plain": [
       "    movie_id                    primary_title  start_year  runtime_minutes  \\\n",
       "1  tt0066787  One Day Before the Rainy Season        2019       114.000000   \n",
       "2  tt0069049       The Other Side of the Wind        2018       122.000000   \n",
       "3  tt0069204                  Sabse Bada Sukh        2018        85.100092   \n",
       "4  tt0100275         The Wandering Soap Opera        2017        80.000000   \n",
       "5  tt0111414                      A Thin Life        2018        75.000000   \n",
       "\n",
       "                 genres  \n",
       "1       Biography,Drama  \n",
       "2                 Drama  \n",
       "3          Comedy,Drama  \n",
       "4  Comedy,Drama,Fantasy  \n",
       "5                Comedy  "
      ]
     },
     "execution_count": 43,
     "metadata": {},
     "output_type": "execute_result"
    }
   ],
   "source": [
    "# drop original title \n",
    "\n",
    "movie_basics.drop('original_title', axis=1, inplace=True)\n",
    "movie_basics.head()"
   ]
  },
  {
   "cell_type": "code",
   "execution_count": 44,
   "metadata": {},
   "outputs": [
    {
     "name": "stdout",
     "output_type": "stream",
     "text": [
      "<class 'pandas.core.frame.DataFrame'>\n",
      "Int64Index: 139190 entries, 1 to 146143\n",
      "Data columns (total 5 columns):\n",
      " #   Column           Non-Null Count   Dtype  \n",
      "---  ------           --------------   -----  \n",
      " 0   movie_id         139190 non-null  object \n",
      " 1   primary_title    139190 non-null  object \n",
      " 2   start_year       139190 non-null  int64  \n",
      " 3   runtime_minutes  139190 non-null  float64\n",
      " 4   genres           139190 non-null  object \n",
      "dtypes: float64(1), int64(1), object(3)\n",
      "memory usage: 6.4+ MB\n"
     ]
    }
   ],
   "source": [
    "# let's review our cleaned table\n",
    "movie_basics.info()"
   ]
  },
  {
   "cell_type": "code",
   "execution_count": 45,
   "metadata": {},
   "outputs": [
    {
     "name": "stdout",
     "output_type": "stream",
     "text": [
      "<class 'pandas.core.frame.DataFrame'>\n",
      "RangeIndex: 73856 entries, 0 to 73855\n",
      "Data columns (total 3 columns):\n",
      " #   Column         Non-Null Count  Dtype  \n",
      "---  ------         --------------  -----  \n",
      " 0   movie_id       73856 non-null  object \n",
      " 1   averagerating  73856 non-null  float64\n",
      " 2   numvotes       73856 non-null  int64  \n",
      "dtypes: float64(1), int64(1), object(1)\n",
      "memory usage: 1.7+ MB\n"
     ]
    }
   ],
   "source": [
    "# on to ratings\n",
    "movie_ratings.info()"
   ]
  },
  {
   "cell_type": "code",
   "execution_count": 46,
   "metadata": {},
   "outputs": [
    {
     "data": {
      "text/plain": [
       "Text(0.5, 1.0, 'Movie Ratings(avg)')"
      ]
     },
     "execution_count": 46,
     "metadata": {},
     "output_type": "execute_result"
    },
    {
     "data": {
      "image/png": "[encoded data removed]",
      "text/plain": [
       "<Figure size 432x288 with 1 Axes>"
      ]
     },
     "metadata": {
      "needs_background": "light"
     },
     "output_type": "display_data"
    }
   ],
   "source": [
    "#lets check for outliers in the movie ratings\n",
    "\n",
    "sns.boxplot(data=movie_ratings['averagerating'])\n",
    "plt.title('Movie Ratings(avg)')"
   ]
  },
  {
   "cell_type": "markdown",
   "metadata": {},
   "source": [
    "No major outliers"
   ]
  },
  {
   "cell_type": "raw",
   "metadata": {},
   "source": [
    "Let's preview our final datasets"
   ]
  },
  {
   "cell_type": "code",
   "execution_count": 47,
   "metadata": {},
   "outputs": [
    {
     "data": {
      "text/html": [
       "<div>\n",
       "<style scoped>\n",
       "    .dataframe tbody tr th:only-of-type {\n",
       "        vertical-align: middle;\n",
       "    }\n",
       "\n",
       "    .dataframe tbody tr th {\n",
       "        vertical-align: top;\n",
       "    }\n",
       "\n",
       "    .dataframe thead th {\n",
       "        text-align: right;\n",
       "    }\n",
       "</style>\n",
       "<table border=\"1\" class=\"dataframe\">\n",
       "  <thead>\n",
       "    <tr style=\"text-align: right;\">\n",
       "      <th></th>\n",
       "      <th>title</th>\n",
       "      <th>studio</th>\n",
       "      <th>domestic_gross</th>\n",
       "      <th>foreign_gross</th>\n",
       "      <th>year</th>\n",
       "      <th>worldwide_gross</th>\n",
       "    </tr>\n",
       "  </thead>\n",
       "  <tbody>\n",
       "    <tr>\n",
       "      <th>0</th>\n",
       "      <td>Toy Story 3</td>\n",
       "      <td>BV</td>\n",
       "      <td>415000000.0</td>\n",
       "      <td>652000000.0</td>\n",
       "      <td>2010</td>\n",
       "      <td>1.067000e+09</td>\n",
       "    </tr>\n",
       "    <tr>\n",
       "      <th>1</th>\n",
       "      <td>Alice in Wonderland (2010)</td>\n",
       "      <td>BV</td>\n",
       "      <td>334200000.0</td>\n",
       "      <td>691300000.0</td>\n",
       "      <td>2010</td>\n",
       "      <td>1.025500e+09</td>\n",
       "    </tr>\n",
       "    <tr>\n",
       "      <th>2</th>\n",
       "      <td>Harry Potter and the Deathly Hallows Part 1</td>\n",
       "      <td>WB</td>\n",
       "      <td>296000000.0</td>\n",
       "      <td>664300000.0</td>\n",
       "      <td>2010</td>\n",
       "      <td>9.603000e+08</td>\n",
       "    </tr>\n",
       "    <tr>\n",
       "      <th>3</th>\n",
       "      <td>Inception</td>\n",
       "      <td>WB</td>\n",
       "      <td>292600000.0</td>\n",
       "      <td>535700000.0</td>\n",
       "      <td>2010</td>\n",
       "      <td>8.283000e+08</td>\n",
       "    </tr>\n",
       "    <tr>\n",
       "      <th>4</th>\n",
       "      <td>Shrek Forever After</td>\n",
       "      <td>P/DW</td>\n",
       "      <td>238700000.0</td>\n",
       "      <td>513900000.0</td>\n",
       "      <td>2010</td>\n",
       "      <td>7.526000e+08</td>\n",
       "    </tr>\n",
       "  </tbody>\n",
       "</table>\n",
       "</div>"
      ],
      "text/plain": [
       "                                         title studio  domestic_gross  \\\n",
       "0                                  Toy Story 3     BV     415000000.0   \n",
       "1                   Alice in Wonderland (2010)     BV     334200000.0   \n",
       "2  Harry Potter and the Deathly Hallows Part 1     WB     296000000.0   \n",
       "3                                    Inception     WB     292600000.0   \n",
       "4                          Shrek Forever After   P/DW     238700000.0   \n",
       "\n",
       "   foreign_gross  year  worldwide_gross  \n",
       "0    652000000.0  2010     1.067000e+09  \n",
       "1    691300000.0  2010     1.025500e+09  \n",
       "2    664300000.0  2010     9.603000e+08  \n",
       "3    535700000.0  2010     8.283000e+08  \n",
       "4    513900000.0  2010     7.526000e+08  "
      ]
     },
     "execution_count": 47,
     "metadata": {},
     "output_type": "execute_result"
    }
   ],
   "source": [
    "gross_df.head()"
   ]
  },
  {
   "cell_type": "code",
   "execution_count": 48,
   "metadata": {},
   "outputs": [
    {
     "data": {
      "text/html": [
       "<div>\n",
       "<style scoped>\n",
       "    .dataframe tbody tr th:only-of-type {\n",
       "        vertical-align: middle;\n",
       "    }\n",
       "\n",
       "    .dataframe tbody tr th {\n",
       "        vertical-align: top;\n",
       "    }\n",
       "\n",
       "    .dataframe thead th {\n",
       "        text-align: right;\n",
       "    }\n",
       "</style>\n",
       "<table border=\"1\" class=\"dataframe\">\n",
       "  <thead>\n",
       "    <tr style=\"text-align: right;\">\n",
       "      <th></th>\n",
       "      <th>movie_id</th>\n",
       "      <th>primary_title</th>\n",
       "      <th>start_year</th>\n",
       "      <th>runtime_minutes</th>\n",
       "      <th>genres</th>\n",
       "    </tr>\n",
       "  </thead>\n",
       "  <tbody>\n",
       "    <tr>\n",
       "      <th>1</th>\n",
       "      <td>tt0066787</td>\n",
       "      <td>One Day Before the Rainy Season</td>\n",
       "      <td>2019</td>\n",
       "      <td>114.000000</td>\n",
       "      <td>Biography,Drama</td>\n",
       "    </tr>\n",
       "    <tr>\n",
       "      <th>2</th>\n",
       "      <td>tt0069049</td>\n",
       "      <td>The Other Side of the Wind</td>\n",
       "      <td>2018</td>\n",
       "      <td>122.000000</td>\n",
       "      <td>Drama</td>\n",
       "    </tr>\n",
       "    <tr>\n",
       "      <th>3</th>\n",
       "      <td>tt0069204</td>\n",
       "      <td>Sabse Bada Sukh</td>\n",
       "      <td>2018</td>\n",
       "      <td>85.100092</td>\n",
       "      <td>Comedy,Drama</td>\n",
       "    </tr>\n",
       "    <tr>\n",
       "      <th>4</th>\n",
       "      <td>tt0100275</td>\n",
       "      <td>The Wandering Soap Opera</td>\n",
       "      <td>2017</td>\n",
       "      <td>80.000000</td>\n",
       "      <td>Comedy,Drama,Fantasy</td>\n",
       "    </tr>\n",
       "    <tr>\n",
       "      <th>5</th>\n",
       "      <td>tt0111414</td>\n",
       "      <td>A Thin Life</td>\n",
       "      <td>2018</td>\n",
       "      <td>75.000000</td>\n",
       "      <td>Comedy</td>\n",
       "    </tr>\n",
       "  </tbody>\n",
       "</table>\n",
       "</div>"
      ],
      "text/plain": [
       "    movie_id                    primary_title  start_year  runtime_minutes  \\\n",
       "1  tt0066787  One Day Before the Rainy Season        2019       114.000000   \n",
       "2  tt0069049       The Other Side of the Wind        2018       122.000000   \n",
       "3  tt0069204                  Sabse Bada Sukh        2018        85.100092   \n",
       "4  tt0100275         The Wandering Soap Opera        2017        80.000000   \n",
       "5  tt0111414                      A Thin Life        2018        75.000000   \n",
       "\n",
       "                 genres  \n",
       "1       Biography,Drama  \n",
       "2                 Drama  \n",
       "3          Comedy,Drama  \n",
       "4  Comedy,Drama,Fantasy  \n",
       "5                Comedy  "
      ]
     },
     "execution_count": 48,
     "metadata": {},
     "output_type": "execute_result"
    }
   ],
   "source": [
    "movie_basics.head()"
   ]
  },
  {
   "cell_type": "code",
   "execution_count": 49,
   "metadata": {},
   "outputs": [
    {
     "data": {
      "text/html": [
       "<div>\n",
       "<style scoped>\n",
       "    .dataframe tbody tr th:only-of-type {\n",
       "        vertical-align: middle;\n",
       "    }\n",
       "\n",
       "    .dataframe tbody tr th {\n",
       "        vertical-align: top;\n",
       "    }\n",
       "\n",
       "    .dataframe thead th {\n",
       "        text-align: right;\n",
       "    }\n",
       "</style>\n",
       "<table border=\"1\" class=\"dataframe\">\n",
       "  <thead>\n",
       "    <tr style=\"text-align: right;\">\n",
       "      <th></th>\n",
       "      <th>movie_id</th>\n",
       "      <th>averagerating</th>\n",
       "      <th>numvotes</th>\n",
       "    </tr>\n",
       "  </thead>\n",
       "  <tbody>\n",
       "    <tr>\n",
       "      <th>0</th>\n",
       "      <td>tt10356526</td>\n",
       "      <td>8.3</td>\n",
       "      <td>31</td>\n",
       "    </tr>\n",
       "    <tr>\n",
       "      <th>1</th>\n",
       "      <td>tt10384606</td>\n",
       "      <td>8.9</td>\n",
       "      <td>559</td>\n",
       "    </tr>\n",
       "    <tr>\n",
       "      <th>2</th>\n",
       "      <td>tt1042974</td>\n",
       "      <td>6.4</td>\n",
       "      <td>20</td>\n",
       "    </tr>\n",
       "    <tr>\n",
       "      <th>3</th>\n",
       "      <td>tt1043726</td>\n",
       "      <td>4.2</td>\n",
       "      <td>50352</td>\n",
       "    </tr>\n",
       "    <tr>\n",
       "      <th>4</th>\n",
       "      <td>tt1060240</td>\n",
       "      <td>6.5</td>\n",
       "      <td>21</td>\n",
       "    </tr>\n",
       "  </tbody>\n",
       "</table>\n",
       "</div>"
      ],
      "text/plain": [
       "     movie_id  averagerating  numvotes\n",
       "0  tt10356526            8.3        31\n",
       "1  tt10384606            8.9       559\n",
       "2   tt1042974            6.4        20\n",
       "3   tt1043726            4.2     50352\n",
       "4   tt1060240            6.5        21"
      ]
     },
     "execution_count": 49,
     "metadata": {},
     "output_type": "execute_result"
    }
   ],
   "source": [
    "movie_ratings.head()"
   ]
  },
  {
   "cell_type": "markdown",
   "metadata": {},
   "source": [
    "Finally we will join our sql tables to the main gross_df table to have all our final dataset"
   ]
  },
  {
   "cell_type": "code",
   "execution_count": 50,
   "metadata": {},
   "outputs": [
    {
     "data": {
      "text/html": [
       "<div>\n",
       "<style scoped>\n",
       "    .dataframe tbody tr th:only-of-type {\n",
       "        vertical-align: middle;\n",
       "    }\n",
       "\n",
       "    .dataframe tbody tr th {\n",
       "        vertical-align: top;\n",
       "    }\n",
       "\n",
       "    .dataframe thead th {\n",
       "        text-align: right;\n",
       "    }\n",
       "</style>\n",
       "<table border=\"1\" class=\"dataframe\">\n",
       "  <thead>\n",
       "    <tr style=\"text-align: right;\">\n",
       "      <th></th>\n",
       "      <th>primary_title</th>\n",
       "      <th>start_year</th>\n",
       "      <th>runtime_minutes</th>\n",
       "      <th>genres</th>\n",
       "      <th>averagerating</th>\n",
       "      <th>numvotes</th>\n",
       "    </tr>\n",
       "  </thead>\n",
       "  <tbody>\n",
       "    <tr>\n",
       "      <th>0</th>\n",
       "      <td>Sunghursh</td>\n",
       "      <td>2013</td>\n",
       "      <td>175.0</td>\n",
       "      <td>Action,Crime,Drama</td>\n",
       "      <td>7.0</td>\n",
       "      <td>77</td>\n",
       "    </tr>\n",
       "    <tr>\n",
       "      <th>1</th>\n",
       "      <td>One Day Before the Rainy Season</td>\n",
       "      <td>2019</td>\n",
       "      <td>114.0</td>\n",
       "      <td>Biography,Drama</td>\n",
       "      <td>7.2</td>\n",
       "      <td>43</td>\n",
       "    </tr>\n",
       "    <tr>\n",
       "      <th>2</th>\n",
       "      <td>The Other Side of the Wind</td>\n",
       "      <td>2018</td>\n",
       "      <td>122.0</td>\n",
       "      <td>Drama</td>\n",
       "      <td>6.9</td>\n",
       "      <td>4517</td>\n",
       "    </tr>\n",
       "    <tr>\n",
       "      <th>3</th>\n",
       "      <td>Sabse Bada Sukh</td>\n",
       "      <td>2018</td>\n",
       "      <td>NaN</td>\n",
       "      <td>Comedy,Drama</td>\n",
       "      <td>6.1</td>\n",
       "      <td>13</td>\n",
       "    </tr>\n",
       "    <tr>\n",
       "      <th>4</th>\n",
       "      <td>The Wandering Soap Opera</td>\n",
       "      <td>2017</td>\n",
       "      <td>80.0</td>\n",
       "      <td>Comedy,Drama,Fantasy</td>\n",
       "      <td>6.5</td>\n",
       "      <td>119</td>\n",
       "    </tr>\n",
       "    <tr>\n",
       "      <th>...</th>\n",
       "      <td>...</td>\n",
       "      <td>...</td>\n",
       "      <td>...</td>\n",
       "      <td>...</td>\n",
       "      <td>...</td>\n",
       "      <td>...</td>\n",
       "    </tr>\n",
       "    <tr>\n",
       "      <th>73851</th>\n",
       "      <td>Diabolik sono io</td>\n",
       "      <td>2019</td>\n",
       "      <td>75.0</td>\n",
       "      <td>Documentary</td>\n",
       "      <td>6.2</td>\n",
       "      <td>6</td>\n",
       "    </tr>\n",
       "    <tr>\n",
       "      <th>73852</th>\n",
       "      <td>Sokagin Çocuklari</td>\n",
       "      <td>2019</td>\n",
       "      <td>98.0</td>\n",
       "      <td>Drama,Family</td>\n",
       "      <td>8.7</td>\n",
       "      <td>136</td>\n",
       "    </tr>\n",
       "    <tr>\n",
       "      <th>73853</th>\n",
       "      <td>Albatross</td>\n",
       "      <td>2017</td>\n",
       "      <td>NaN</td>\n",
       "      <td>Documentary</td>\n",
       "      <td>8.5</td>\n",
       "      <td>8</td>\n",
       "    </tr>\n",
       "    <tr>\n",
       "      <th>73854</th>\n",
       "      <td>La vida sense la Sara Amat</td>\n",
       "      <td>2019</td>\n",
       "      <td>NaN</td>\n",
       "      <td>None</td>\n",
       "      <td>6.6</td>\n",
       "      <td>5</td>\n",
       "    </tr>\n",
       "    <tr>\n",
       "      <th>73855</th>\n",
       "      <td>Drømmeland</td>\n",
       "      <td>2019</td>\n",
       "      <td>72.0</td>\n",
       "      <td>Documentary</td>\n",
       "      <td>6.5</td>\n",
       "      <td>11</td>\n",
       "    </tr>\n",
       "  </tbody>\n",
       "</table>\n",
       "<p>73856 rows × 6 columns</p>\n",
       "</div>"
      ],
      "text/plain": [
       "                         primary_title  start_year  runtime_minutes  \\\n",
       "0                            Sunghursh        2013            175.0   \n",
       "1      One Day Before the Rainy Season        2019            114.0   \n",
       "2           The Other Side of the Wind        2018            122.0   \n",
       "3                      Sabse Bada Sukh        2018              NaN   \n",
       "4             The Wandering Soap Opera        2017             80.0   \n",
       "...                                ...         ...              ...   \n",
       "73851                 Diabolik sono io        2019             75.0   \n",
       "73852                Sokagin Çocuklari        2019             98.0   \n",
       "73853                        Albatross        2017              NaN   \n",
       "73854       La vida sense la Sara Amat        2019              NaN   \n",
       "73855                       Drømmeland        2019             72.0   \n",
       "\n",
       "                     genres  averagerating  numvotes  \n",
       "0        Action,Crime,Drama            7.0        77  \n",
       "1           Biography,Drama            7.2        43  \n",
       "2                     Drama            6.9      4517  \n",
       "3              Comedy,Drama            6.1        13  \n",
       "4      Comedy,Drama,Fantasy            6.5       119  \n",
       "...                     ...            ...       ...  \n",
       "73851           Documentary            6.2         6  \n",
       "73852          Drama,Family            8.7       136  \n",
       "73853           Documentary            8.5         8  \n",
       "73854                  None            6.6         5  \n",
       "73855           Documentary            6.5        11  \n",
       "\n",
       "[73856 rows x 6 columns]"
      ]
     },
     "execution_count": 50,
     "metadata": {},
     "output_type": "execute_result"
    }
   ],
   "source": [
    "#lets join movie basics and rating tables first\n",
    "\n",
    "movie_details =\"\"\"\n",
    "SELECT primary_title, start_year, runtime_minutes, genres, averagerating, numvotes\n",
    "FROM movie_basics mb\n",
    "JOIN movie_ratings mr ON mb.movie_id=mr.movie_id\n",
    ";\n",
    "\"\"\"\n",
    "movie_data = pd.read_sql(movie_details, conn)\n",
    "movie_data"
   ]
  },
  {
   "cell_type": "code",
   "execution_count": 51,
   "metadata": {},
   "outputs": [
    {
     "data": {
      "text/html": [
       "<div>\n",
       "<style scoped>\n",
       "    .dataframe tbody tr th:only-of-type {\n",
       "        vertical-align: middle;\n",
       "    }\n",
       "\n",
       "    .dataframe tbody tr th {\n",
       "        vertical-align: top;\n",
       "    }\n",
       "\n",
       "    .dataframe thead th {\n",
       "        text-align: right;\n",
       "    }\n",
       "</style>\n",
       "<table border=\"1\" class=\"dataframe\">\n",
       "  <thead>\n",
       "    <tr style=\"text-align: right;\">\n",
       "      <th></th>\n",
       "      <th>title</th>\n",
       "      <th>studio</th>\n",
       "      <th>domestic_gross</th>\n",
       "      <th>foreign_gross</th>\n",
       "      <th>year</th>\n",
       "      <th>worldwide_gross</th>\n",
       "      <th>primary_title</th>\n",
       "      <th>start_year</th>\n",
       "      <th>runtime_minutes</th>\n",
       "      <th>genres</th>\n",
       "      <th>averagerating</th>\n",
       "      <th>numvotes</th>\n",
       "    </tr>\n",
       "  </thead>\n",
       "  <tbody>\n",
       "    <tr>\n",
       "      <th>0</th>\n",
       "      <td>Toy Story 3</td>\n",
       "      <td>BV</td>\n",
       "      <td>415000000.0</td>\n",
       "      <td>652000000.0</td>\n",
       "      <td>2010</td>\n",
       "      <td>1.067000e+09</td>\n",
       "      <td>Toy Story 3</td>\n",
       "      <td>2010</td>\n",
       "      <td>103.0</td>\n",
       "      <td>Adventure,Animation,Comedy</td>\n",
       "      <td>8.3</td>\n",
       "      <td>682218</td>\n",
       "    </tr>\n",
       "    <tr>\n",
       "      <th>1</th>\n",
       "      <td>Inception</td>\n",
       "      <td>WB</td>\n",
       "      <td>292600000.0</td>\n",
       "      <td>535700000.0</td>\n",
       "      <td>2010</td>\n",
       "      <td>8.283000e+08</td>\n",
       "      <td>Inception</td>\n",
       "      <td>2010</td>\n",
       "      <td>148.0</td>\n",
       "      <td>Action,Adventure,Sci-Fi</td>\n",
       "      <td>8.8</td>\n",
       "      <td>1841066</td>\n",
       "    </tr>\n",
       "    <tr>\n",
       "      <th>2</th>\n",
       "      <td>Shrek Forever After</td>\n",
       "      <td>P/DW</td>\n",
       "      <td>238700000.0</td>\n",
       "      <td>513900000.0</td>\n",
       "      <td>2010</td>\n",
       "      <td>7.526000e+08</td>\n",
       "      <td>Shrek Forever After</td>\n",
       "      <td>2010</td>\n",
       "      <td>93.0</td>\n",
       "      <td>Adventure,Animation,Comedy</td>\n",
       "      <td>6.3</td>\n",
       "      <td>167532</td>\n",
       "    </tr>\n",
       "    <tr>\n",
       "      <th>3</th>\n",
       "      <td>The Twilight Saga: Eclipse</td>\n",
       "      <td>Sum.</td>\n",
       "      <td>300500000.0</td>\n",
       "      <td>398000000.0</td>\n",
       "      <td>2010</td>\n",
       "      <td>6.985000e+08</td>\n",
       "      <td>The Twilight Saga: Eclipse</td>\n",
       "      <td>2010</td>\n",
       "      <td>124.0</td>\n",
       "      <td>Adventure,Drama,Fantasy</td>\n",
       "      <td>5.0</td>\n",
       "      <td>211733</td>\n",
       "    </tr>\n",
       "    <tr>\n",
       "      <th>4</th>\n",
       "      <td>Iron Man 2</td>\n",
       "      <td>Par.</td>\n",
       "      <td>312400000.0</td>\n",
       "      <td>311500000.0</td>\n",
       "      <td>2010</td>\n",
       "      <td>6.239000e+08</td>\n",
       "      <td>Iron Man 2</td>\n",
       "      <td>2010</td>\n",
       "      <td>124.0</td>\n",
       "      <td>Action,Adventure,Sci-Fi</td>\n",
       "      <td>7.0</td>\n",
       "      <td>657690</td>\n",
       "    </tr>\n",
       "    <tr>\n",
       "      <th>...</th>\n",
       "      <td>...</td>\n",
       "      <td>...</td>\n",
       "      <td>...</td>\n",
       "      <td>...</td>\n",
       "      <td>...</td>\n",
       "      <td>...</td>\n",
       "      <td>...</td>\n",
       "      <td>...</td>\n",
       "      <td>...</td>\n",
       "      <td>...</td>\n",
       "      <td>...</td>\n",
       "      <td>...</td>\n",
       "    </tr>\n",
       "    <tr>\n",
       "      <th>3020</th>\n",
       "      <td>Souvenir</td>\n",
       "      <td>Strand</td>\n",
       "      <td>11400.0</td>\n",
       "      <td>0.0</td>\n",
       "      <td>2018</td>\n",
       "      <td>1.140000e+04</td>\n",
       "      <td>Souvenir</td>\n",
       "      <td>2016</td>\n",
       "      <td>90.0</td>\n",
       "      <td>Drama,Music,Romance</td>\n",
       "      <td>6.0</td>\n",
       "      <td>823</td>\n",
       "    </tr>\n",
       "    <tr>\n",
       "      <th>3021</th>\n",
       "      <td>Souvenir</td>\n",
       "      <td>Strand</td>\n",
       "      <td>11400.0</td>\n",
       "      <td>0.0</td>\n",
       "      <td>2018</td>\n",
       "      <td>1.140000e+04</td>\n",
       "      <td>Souvenir</td>\n",
       "      <td>2014</td>\n",
       "      <td>86.0</td>\n",
       "      <td>Comedy,Romance</td>\n",
       "      <td>5.9</td>\n",
       "      <td>9</td>\n",
       "    </tr>\n",
       "    <tr>\n",
       "      <th>3022</th>\n",
       "      <td>Beauty and the Dogs</td>\n",
       "      <td>Osci.</td>\n",
       "      <td>8900.0</td>\n",
       "      <td>0.0</td>\n",
       "      <td>2018</td>\n",
       "      <td>8.900000e+03</td>\n",
       "      <td>Beauty and the Dogs</td>\n",
       "      <td>2017</td>\n",
       "      <td>100.0</td>\n",
       "      <td>Crime,Drama,Thriller</td>\n",
       "      <td>7.0</td>\n",
       "      <td>1016</td>\n",
       "    </tr>\n",
       "    <tr>\n",
       "      <th>3023</th>\n",
       "      <td>The Quake</td>\n",
       "      <td>Magn.</td>\n",
       "      <td>6200.0</td>\n",
       "      <td>0.0</td>\n",
       "      <td>2018</td>\n",
       "      <td>6.200000e+03</td>\n",
       "      <td>The Quake</td>\n",
       "      <td>2018</td>\n",
       "      <td>106.0</td>\n",
       "      <td>Action,Drama,Thriller</td>\n",
       "      <td>6.2</td>\n",
       "      <td>5270</td>\n",
       "    </tr>\n",
       "    <tr>\n",
       "      <th>3024</th>\n",
       "      <td>An Actor Prepares</td>\n",
       "      <td>Grav.</td>\n",
       "      <td>1700.0</td>\n",
       "      <td>0.0</td>\n",
       "      <td>2018</td>\n",
       "      <td>1.700000e+03</td>\n",
       "      <td>An Actor Prepares</td>\n",
       "      <td>2018</td>\n",
       "      <td>97.0</td>\n",
       "      <td>Comedy</td>\n",
       "      <td>5.0</td>\n",
       "      <td>388</td>\n",
       "    </tr>\n",
       "  </tbody>\n",
       "</table>\n",
       "<p>3025 rows × 12 columns</p>\n",
       "</div>"
      ],
      "text/plain": [
       "                           title  studio  domestic_gross  foreign_gross  year  \\\n",
       "0                    Toy Story 3      BV     415000000.0    652000000.0  2010   \n",
       "1                      Inception      WB     292600000.0    535700000.0  2010   \n",
       "2            Shrek Forever After    P/DW     238700000.0    513900000.0  2010   \n",
       "3     The Twilight Saga: Eclipse    Sum.     300500000.0    398000000.0  2010   \n",
       "4                     Iron Man 2    Par.     312400000.0    311500000.0  2010   \n",
       "...                          ...     ...             ...            ...   ...   \n",
       "3020                    Souvenir  Strand         11400.0            0.0  2018   \n",
       "3021                    Souvenir  Strand         11400.0            0.0  2018   \n",
       "3022         Beauty and the Dogs   Osci.          8900.0            0.0  2018   \n",
       "3023                   The Quake   Magn.          6200.0            0.0  2018   \n",
       "3024           An Actor Prepares   Grav.          1700.0            0.0  2018   \n",
       "\n",
       "      worldwide_gross               primary_title  start_year  \\\n",
       "0        1.067000e+09                 Toy Story 3        2010   \n",
       "1        8.283000e+08                   Inception        2010   \n",
       "2        7.526000e+08         Shrek Forever After        2010   \n",
       "3        6.985000e+08  The Twilight Saga: Eclipse        2010   \n",
       "4        6.239000e+08                  Iron Man 2        2010   \n",
       "...               ...                         ...         ...   \n",
       "3020     1.140000e+04                    Souvenir        2016   \n",
       "3021     1.140000e+04                    Souvenir        2014   \n",
       "3022     8.900000e+03         Beauty and the Dogs        2017   \n",
       "3023     6.200000e+03                   The Quake        2018   \n",
       "3024     1.700000e+03           An Actor Prepares        2018   \n",
       "\n",
       "      runtime_minutes                      genres  averagerating  numvotes  \n",
       "0               103.0  Adventure,Animation,Comedy            8.3    682218  \n",
       "1               148.0     Action,Adventure,Sci-Fi            8.8   1841066  \n",
       "2                93.0  Adventure,Animation,Comedy            6.3    167532  \n",
       "3               124.0     Adventure,Drama,Fantasy            5.0    211733  \n",
       "4               124.0     Action,Adventure,Sci-Fi            7.0    657690  \n",
       "...               ...                         ...            ...       ...  \n",
       "3020             90.0         Drama,Music,Romance            6.0       823  \n",
       "3021             86.0              Comedy,Romance            5.9         9  \n",
       "3022            100.0        Crime,Drama,Thriller            7.0      1016  \n",
       "3023            106.0       Action,Drama,Thriller            6.2      5270  \n",
       "3024             97.0                      Comedy            5.0       388  \n",
       "\n",
       "[3025 rows x 12 columns]"
      ]
     },
     "execution_count": 51,
     "metadata": {},
     "output_type": "execute_result"
    }
   ],
   "source": [
    "#let's merge this table with gross df\n",
    "\n",
    "merged_movie_df = pd.merge(gross_df, movie_data, left_on='title', right_on='primary_title')\n",
    "merged_movie_df"
   ]
  },
  {
   "cell_type": "code",
   "execution_count": 52,
   "metadata": {},
   "outputs": [
    {
     "name": "stdout",
     "output_type": "stream",
     "text": [
      "<class 'pandas.core.frame.DataFrame'>\n",
      "Int64Index: 3025 entries, 0 to 3024\n",
      "Data columns (total 12 columns):\n",
      " #   Column           Non-Null Count  Dtype  \n",
      "---  ------           --------------  -----  \n",
      " 0   title            3025 non-null   object \n",
      " 1   studio           3025 non-null   object \n",
      " 2   domestic_gross   3025 non-null   float64\n",
      " 3   foreign_gross    3025 non-null   float64\n",
      " 4   year             3025 non-null   int64  \n",
      " 5   worldwide_gross  3025 non-null   float64\n",
      " 6   primary_title    3025 non-null   object \n",
      " 7   start_year       3025 non-null   int64  \n",
      " 8   runtime_minutes  2978 non-null   float64\n",
      " 9   genres           3018 non-null   object \n",
      " 10  averagerating    3025 non-null   float64\n",
      " 11  numvotes         3025 non-null   int64  \n",
      "dtypes: float64(5), int64(3), object(4)\n",
      "memory usage: 307.2+ KB\n"
     ]
    }
   ],
   "source": [
    "#let's preview this merged dataset\n",
    "merged_movie_df.info()"
   ]
  },
  {
   "cell_type": "markdown",
   "metadata": {},
   "source": [
    "There seem to be null values"
   ]
  },
  {
   "cell_type": "code",
   "execution_count": 53,
   "metadata": {},
   "outputs": [],
   "source": [
    "#let's replace as we did before\n",
    "merged_movie_df['genres'].replace({np.nan: 'Unknown'}, inplace=True)\n",
    "merged_movie_df['runtime_minutes'].replace({np.nan: merged_movie_df['runtime_minutes'].mean()}, inplace=True)"
   ]
  },
  {
   "cell_type": "code",
   "execution_count": 54,
   "metadata": {},
   "outputs": [],
   "source": [
    "# let's format gross columns into numeric then currency values for better vizualization\n",
    "\n",
    "#merged_movie_df['domestic_gross'] = pd.to_numeric(merged_movie_df['domestic_gross'], errors='coerce')\n",
    "#merged_movie_df['domestic_gross'] = merged_movie_df['domestic_gross'].map('${:,.2f}'.format)\n",
    "\n",
    "#merged_movie_df['foreign_gross'] = pd.to_numeric(merged_movie_df['foreign_gross'], errors='coerce')\n",
    "#merged_movie_df['foreign_gross'] = merged_movie_df['foreign_gross'].map('${:,.2f}'.format)\n",
    "\n",
    "#merged_movie_df['worldwide_gross'] = pd.to_numeric(merged_movie_df['worldwide_gross'], errors='coerce')\n",
    "#merged_movie_df['worldwide_gross'] = merged_movie_df['worldwide_gross'].map('${:,.2f}'.format)\n"
   ]
  },
  {
   "cell_type": "code",
   "execution_count": 55,
   "metadata": {},
   "outputs": [
    {
     "data": {
      "text/html": [
       "<div>\n",
       "<style scoped>\n",
       "    .dataframe tbody tr th:only-of-type {\n",
       "        vertical-align: middle;\n",
       "    }\n",
       "\n",
       "    .dataframe tbody tr th {\n",
       "        vertical-align: top;\n",
       "    }\n",
       "\n",
       "    .dataframe thead th {\n",
       "        text-align: right;\n",
       "    }\n",
       "</style>\n",
       "<table border=\"1\" class=\"dataframe\">\n",
       "  <thead>\n",
       "    <tr style=\"text-align: right;\">\n",
       "      <th></th>\n",
       "      <th>title</th>\n",
       "      <th>studio</th>\n",
       "      <th>domestic_gross</th>\n",
       "      <th>foreign_gross</th>\n",
       "      <th>year</th>\n",
       "      <th>worldwide_gross</th>\n",
       "      <th>primary_title</th>\n",
       "      <th>start_year</th>\n",
       "      <th>runtime_minutes</th>\n",
       "      <th>genres</th>\n",
       "      <th>averagerating</th>\n",
       "      <th>numvotes</th>\n",
       "    </tr>\n",
       "  </thead>\n",
       "  <tbody>\n",
       "    <tr>\n",
       "      <th>0</th>\n",
       "      <td>Toy Story 3</td>\n",
       "      <td>BV</td>\n",
       "      <td>415000000.0</td>\n",
       "      <td>652000000.0</td>\n",
       "      <td>2010</td>\n",
       "      <td>1.067000e+09</td>\n",
       "      <td>Toy Story 3</td>\n",
       "      <td>2010</td>\n",
       "      <td>103.0</td>\n",
       "      <td>Adventure,Animation,Comedy</td>\n",
       "      <td>8.3</td>\n",
       "      <td>682218</td>\n",
       "    </tr>\n",
       "    <tr>\n",
       "      <th>1</th>\n",
       "      <td>Inception</td>\n",
       "      <td>WB</td>\n",
       "      <td>292600000.0</td>\n",
       "      <td>535700000.0</td>\n",
       "      <td>2010</td>\n",
       "      <td>8.283000e+08</td>\n",
       "      <td>Inception</td>\n",
       "      <td>2010</td>\n",
       "      <td>148.0</td>\n",
       "      <td>Action,Adventure,Sci-Fi</td>\n",
       "      <td>8.8</td>\n",
       "      <td>1841066</td>\n",
       "    </tr>\n",
       "    <tr>\n",
       "      <th>2</th>\n",
       "      <td>Shrek Forever After</td>\n",
       "      <td>P/DW</td>\n",
       "      <td>238700000.0</td>\n",
       "      <td>513900000.0</td>\n",
       "      <td>2010</td>\n",
       "      <td>7.526000e+08</td>\n",
       "      <td>Shrek Forever After</td>\n",
       "      <td>2010</td>\n",
       "      <td>93.0</td>\n",
       "      <td>Adventure,Animation,Comedy</td>\n",
       "      <td>6.3</td>\n",
       "      <td>167532</td>\n",
       "    </tr>\n",
       "    <tr>\n",
       "      <th>3</th>\n",
       "      <td>The Twilight Saga: Eclipse</td>\n",
       "      <td>Sum.</td>\n",
       "      <td>300500000.0</td>\n",
       "      <td>398000000.0</td>\n",
       "      <td>2010</td>\n",
       "      <td>6.985000e+08</td>\n",
       "      <td>The Twilight Saga: Eclipse</td>\n",
       "      <td>2010</td>\n",
       "      <td>124.0</td>\n",
       "      <td>Adventure,Drama,Fantasy</td>\n",
       "      <td>5.0</td>\n",
       "      <td>211733</td>\n",
       "    </tr>\n",
       "    <tr>\n",
       "      <th>4</th>\n",
       "      <td>Iron Man 2</td>\n",
       "      <td>Par.</td>\n",
       "      <td>312400000.0</td>\n",
       "      <td>311500000.0</td>\n",
       "      <td>2010</td>\n",
       "      <td>6.239000e+08</td>\n",
       "      <td>Iron Man 2</td>\n",
       "      <td>2010</td>\n",
       "      <td>124.0</td>\n",
       "      <td>Action,Adventure,Sci-Fi</td>\n",
       "      <td>7.0</td>\n",
       "      <td>657690</td>\n",
       "    </tr>\n",
       "  </tbody>\n",
       "</table>\n",
       "</div>"
      ],
      "text/plain": [
       "                        title studio  domestic_gross  foreign_gross  year  \\\n",
       "0                 Toy Story 3     BV     415000000.0    652000000.0  2010   \n",
       "1                   Inception     WB     292600000.0    535700000.0  2010   \n",
       "2         Shrek Forever After   P/DW     238700000.0    513900000.0  2010   \n",
       "3  The Twilight Saga: Eclipse   Sum.     300500000.0    398000000.0  2010   \n",
       "4                  Iron Man 2   Par.     312400000.0    311500000.0  2010   \n",
       "\n",
       "   worldwide_gross               primary_title  start_year  runtime_minutes  \\\n",
       "0     1.067000e+09                 Toy Story 3        2010            103.0   \n",
       "1     8.283000e+08                   Inception        2010            148.0   \n",
       "2     7.526000e+08         Shrek Forever After        2010             93.0   \n",
       "3     6.985000e+08  The Twilight Saga: Eclipse        2010            124.0   \n",
       "4     6.239000e+08                  Iron Man 2        2010            124.0   \n",
       "\n",
       "                       genres  averagerating  numvotes  \n",
       "0  Adventure,Animation,Comedy            8.3    682218  \n",
       "1     Action,Adventure,Sci-Fi            8.8   1841066  \n",
       "2  Adventure,Animation,Comedy            6.3    167532  \n",
       "3     Adventure,Drama,Fantasy            5.0    211733  \n",
       "4     Action,Adventure,Sci-Fi            7.0    657690  "
      ]
     },
     "execution_count": 55,
     "metadata": {},
     "output_type": "execute_result"
    }
   ],
   "source": [
    "merged_movie_df.head()"
   ]
  },
  {
   "cell_type": "code",
   "execution_count": 56,
   "metadata": {},
   "outputs": [
    {
     "name": "stdout",
     "output_type": "stream",
     "text": [
      "<class 'pandas.core.frame.DataFrame'>\n",
      "Int64Index: 3025 entries, 0 to 3024\n",
      "Data columns (total 12 columns):\n",
      " #   Column           Non-Null Count  Dtype  \n",
      "---  ------           --------------  -----  \n",
      " 0   title            3025 non-null   object \n",
      " 1   studio           3025 non-null   object \n",
      " 2   domestic_gross   3025 non-null   float64\n",
      " 3   foreign_gross    3025 non-null   float64\n",
      " 4   year             3025 non-null   int64  \n",
      " 5   worldwide_gross  3025 non-null   float64\n",
      " 6   primary_title    3025 non-null   object \n",
      " 7   start_year       3025 non-null   int64  \n",
      " 8   runtime_minutes  3025 non-null   float64\n",
      " 9   genres           3025 non-null   object \n",
      " 10  averagerating    3025 non-null   float64\n",
      " 11  numvotes         3025 non-null   int64  \n",
      "dtypes: float64(5), int64(3), object(4)\n",
      "memory usage: 307.2+ KB\n"
     ]
    }
   ],
   "source": [
    "# confirm\n",
    "merged_movie_df.info()"
   ]
  },
  {
   "cell_type": "markdown",
   "metadata": {},
   "source": [
    "## 6.  Data Analysis\n",
    "\n",
    "Lets produce useful findings from our cleaned datasets"
   ]
  },
  {
   "cell_type": "markdown",
   "metadata": {},
   "source": [
    "### 6.1 Univariate Analysis\n",
    "\n",
    "This analysis involves single variables. Let's try and understand what they constitute"
   ]
  },
  {
   "cell_type": "code",
   "execution_count": 57,
   "metadata": {},
   "outputs": [
    {
     "data": {
      "text/plain": [
       "Drama                   317\n",
       "Comedy,Drama            133\n",
       "Comedy,Drama,Romance    132\n",
       "Drama,Romance           112\n",
       "Documentary             110\n",
       "Name: genres, dtype: int64"
      ]
     },
     "execution_count": 57,
     "metadata": {},
     "output_type": "execute_result"
    }
   ],
   "source": [
    "#let's see the most produced genres\n",
    "\n",
    "popular_genres = merged_movie_df['genres'].value_counts()[:5]\n",
    "popular_genres"
   ]
  },
  {
   "cell_type": "code",
   "execution_count": 100,
   "metadata": {},
   "outputs": [
    {
     "data": {
      "image/png": "[encoded data removed]",
      "text/plain": [
       "<Figure size 720x432 with 1 Axes>"
      ]
     },
     "metadata": {},
     "output_type": "display_data"
    }
   ],
   "source": [
    "sns.set(style=\"whitegrid\")\n",
    "\n",
    "plt.figure(figsize = (10, 6))\n",
    "plt.pie(popular_genres, labels=popular_genres.index, autopct='%0.1f%%')\n",
    "plt.title('Distribution of Popular Genres')\n",
    "plt.show()"
   ]
  },
  {
   "cell_type": "markdown",
   "metadata": {},
   "source": [
    "The vizualization above shows that most made movies are of the Drama genre with almost 40% followed by Comedy/Drama(17%) then Comedy/Drama/Romance(16%)."
   ]
  },
  {
   "cell_type": "code",
   "execution_count": 59,
   "metadata": {},
   "outputs": [
    {
     "name": "stdout",
     "output_type": "stream",
     "text": [
      "Domestic gross range 700099900.0\n"
     ]
    }
   ],
   "source": [
    "#range for domestic gross\n",
    "\n",
    "ming = merged_movie_df['domestic_gross'].min()\n",
    "maxg = merged_movie_df['domestic_gross'].max()\n",
    "grange = maxg - ming\n",
    "\n",
    "print(\"Domestic gross range\", grange)"
   ]
  },
  {
   "cell_type": "code",
   "execution_count": 60,
   "metadata": {},
   "outputs": [
    {
     "data": {
      "text/html": [
       "<div>\n",
       "<style scoped>\n",
       "    .dataframe tbody tr th:only-of-type {\n",
       "        vertical-align: middle;\n",
       "    }\n",
       "\n",
       "    .dataframe tbody tr th {\n",
       "        vertical-align: top;\n",
       "    }\n",
       "\n",
       "    .dataframe thead th {\n",
       "        text-align: right;\n",
       "    }\n",
       "</style>\n",
       "<table border=\"1\" class=\"dataframe\">\n",
       "  <thead>\n",
       "    <tr style=\"text-align: right;\">\n",
       "      <th></th>\n",
       "      <th>domestic_gross</th>\n",
       "      <th>foreign_gross</th>\n",
       "      <th>year</th>\n",
       "      <th>worldwide_gross</th>\n",
       "      <th>start_year</th>\n",
       "      <th>runtime_minutes</th>\n",
       "      <th>averagerating</th>\n",
       "      <th>numvotes</th>\n",
       "    </tr>\n",
       "  </thead>\n",
       "  <tbody>\n",
       "    <tr>\n",
       "      <th>count</th>\n",
       "      <td>3.025000e+03</td>\n",
       "      <td>3.025000e+03</td>\n",
       "      <td>3025.000000</td>\n",
       "      <td>3.025000e+03</td>\n",
       "      <td>3025.000000</td>\n",
       "      <td>3025.000000</td>\n",
       "      <td>3025.000000</td>\n",
       "      <td>3.025000e+03</td>\n",
       "    </tr>\n",
       "    <tr>\n",
       "      <th>mean</th>\n",
       "      <td>3.064685e+07</td>\n",
       "      <td>4.739562e+07</td>\n",
       "      <td>2014.075702</td>\n",
       "      <td>7.804246e+07</td>\n",
       "      <td>2013.782810</td>\n",
       "      <td>107.216924</td>\n",
       "      <td>6.457719</td>\n",
       "      <td>6.174067e+04</td>\n",
       "    </tr>\n",
       "    <tr>\n",
       "      <th>std</th>\n",
       "      <td>6.649084e+07</td>\n",
       "      <td>1.144344e+08</td>\n",
       "      <td>2.441895</td>\n",
       "      <td>1.728565e+08</td>\n",
       "      <td>2.466864</td>\n",
       "      <td>19.922468</td>\n",
       "      <td>1.012590</td>\n",
       "      <td>1.255448e+05</td>\n",
       "    </tr>\n",
       "    <tr>\n",
       "      <th>min</th>\n",
       "      <td>1.000000e+02</td>\n",
       "      <td>0.000000e+00</td>\n",
       "      <td>2010.000000</td>\n",
       "      <td>1.000000e+02</td>\n",
       "      <td>2010.000000</td>\n",
       "      <td>3.000000</td>\n",
       "      <td>1.600000</td>\n",
       "      <td>5.000000e+00</td>\n",
       "    </tr>\n",
       "    <tr>\n",
       "      <th>25%</th>\n",
       "      <td>1.460000e+05</td>\n",
       "      <td>0.000000e+00</td>\n",
       "      <td>2012.000000</td>\n",
       "      <td>3.100000e+05</td>\n",
       "      <td>2012.000000</td>\n",
       "      <td>94.000000</td>\n",
       "      <td>5.900000</td>\n",
       "      <td>2.136000e+03</td>\n",
       "    </tr>\n",
       "    <tr>\n",
       "      <th>50%</th>\n",
       "      <td>2.100000e+06</td>\n",
       "      <td>2.400000e+06</td>\n",
       "      <td>2014.000000</td>\n",
       "      <td>7.439000e+06</td>\n",
       "      <td>2014.000000</td>\n",
       "      <td>105.000000</td>\n",
       "      <td>6.600000</td>\n",
       "      <td>1.312100e+04</td>\n",
       "    </tr>\n",
       "    <tr>\n",
       "      <th>75%</th>\n",
       "      <td>3.220000e+07</td>\n",
       "      <td>3.460000e+07</td>\n",
       "      <td>2016.000000</td>\n",
       "      <td>7.055700e+07</td>\n",
       "      <td>2016.000000</td>\n",
       "      <td>118.000000</td>\n",
       "      <td>7.100000</td>\n",
       "      <td>6.294200e+04</td>\n",
       "    </tr>\n",
       "    <tr>\n",
       "      <th>max</th>\n",
       "      <td>7.001000e+08</td>\n",
       "      <td>9.464000e+08</td>\n",
       "      <td>2018.000000</td>\n",
       "      <td>1.405400e+09</td>\n",
       "      <td>2019.000000</td>\n",
       "      <td>272.000000</td>\n",
       "      <td>9.200000</td>\n",
       "      <td>1.841066e+06</td>\n",
       "    </tr>\n",
       "  </tbody>\n",
       "</table>\n",
       "</div>"
      ],
      "text/plain": [
       "       domestic_gross  foreign_gross         year  worldwide_gross  \\\n",
       "count    3.025000e+03   3.025000e+03  3025.000000     3.025000e+03   \n",
       "mean     3.064685e+07   4.739562e+07  2014.075702     7.804246e+07   \n",
       "std      6.649084e+07   1.144344e+08     2.441895     1.728565e+08   \n",
       "min      1.000000e+02   0.000000e+00  2010.000000     1.000000e+02   \n",
       "25%      1.460000e+05   0.000000e+00  2012.000000     3.100000e+05   \n",
       "50%      2.100000e+06   2.400000e+06  2014.000000     7.439000e+06   \n",
       "75%      3.220000e+07   3.460000e+07  2016.000000     7.055700e+07   \n",
       "max      7.001000e+08   9.464000e+08  2018.000000     1.405400e+09   \n",
       "\n",
       "        start_year  runtime_minutes  averagerating      numvotes  \n",
       "count  3025.000000      3025.000000    3025.000000  3.025000e+03  \n",
       "mean   2013.782810       107.216924       6.457719  6.174067e+04  \n",
       "std       2.466864        19.922468       1.012590  1.255448e+05  \n",
       "min    2010.000000         3.000000       1.600000  5.000000e+00  \n",
       "25%    2012.000000        94.000000       5.900000  2.136000e+03  \n",
       "50%    2014.000000       105.000000       6.600000  1.312100e+04  \n",
       "75%    2016.000000       118.000000       7.100000  6.294200e+04  \n",
       "max    2019.000000       272.000000       9.200000  1.841066e+06  "
      ]
     },
     "execution_count": 60,
     "metadata": {},
     "output_type": "execute_result"
    }
   ],
   "source": [
    "#let's check mean, median and range for the numeric columns\n",
    "\n",
    "merged_movie_df.describe()"
   ]
  },
  {
   "cell_type": "code",
   "execution_count": 61,
   "metadata": {},
   "outputs": [
    {
     "name": "stdout",
     "output_type": "stream",
     "text": [
      "Domestic mean : 30646845.196048416\n",
      "\n",
      "Domestic median : 2100000.0\n",
      "\n",
      "Domestic mode : 0    1300000.0\n",
      "dtype: float64\n",
      "\n"
     ]
    }
   ],
   "source": [
    "#central tendecies of domestic gross\n",
    "\n",
    "meand = merged_movie_df['domestic_gross'].mean()\n",
    "mediand = merged_movie_df['domestic_gross'].median()\n",
    "moded = merged_movie_df['domestic_gross'].mode()\n",
    "\n",
    "print(\"Domestic mean :\", meand)\n",
    "print(\"\")\n",
    "print(\"Domestic median :\", mediand)\n",
    "print(\"\")\n",
    "print(\"Domestic mode :\", moded)\n",
    "print(\"\")"
   ]
  },
  {
   "cell_type": "code",
   "execution_count": 62,
   "metadata": {},
   "outputs": [
    {
     "name": "stdout",
     "output_type": "stream",
     "text": [
      "Foreign mean : 47395618.065421484\n",
      "\n",
      "Foreign median : 2400000.0\n",
      "\n",
      "Foreign mode : 0    0.0\n",
      "dtype: float64\n",
      "\n"
     ]
    }
   ],
   "source": [
    "# central tendencies for foreign gross\n",
    "\n",
    "meanf = merged_movie_df['foreign_gross'].mean()\n",
    "medianf = merged_movie_df['foreign_gross'].median()\n",
    "modef = merged_movie_df['foreign_gross'].mode()\n",
    "\n",
    "print(\"Foreign mean :\", meanf)\n",
    "print(\"\")\n",
    "print(\"Foreign median :\", medianf)\n",
    "print(\"\")\n",
    "print(\"Foreign mode :\", modef)\n",
    "print(\"\")"
   ]
  },
  {
   "cell_type": "markdown",
   "metadata": {},
   "source": [
    "Both gross revenues appear to have the same range in their values\n",
    "\n",
    "Domestic gross have a; \n",
    "\n",
    "Mean : 30,646,850\n",
    "\n",
    "Median : 2,100,000\n",
    "\n",
    "Foreign gross have a;\n",
    "\n",
    "Mean : 47,395,620\n",
    "\n",
    "Median : 2,400,000\n",
    "\n",
    "Foreign revenues are higher than gross revenues"
   ]
  },
  {
   "cell_type": "code",
   "execution_count": 63,
   "metadata": {},
   "outputs": [
    {
     "data": {
      "text/plain": [
       "<Figure size 432x288 with 0 Axes>"
      ]
     },
     "metadata": {},
     "output_type": "display_data"
    },
    {
     "data": {
      "image/png": "[encoded data removed]",
      "text/plain": [
       "<Figure size 360x360 with 1 Axes>"
      ]
     },
     "metadata": {
      "needs_background": "light"
     },
     "output_type": "display_data"
    }
   ],
   "source": [
    "# lets plot ratings and see its distribution\n",
    "\n",
    "plt.figure(figsize = (6, 4))\n",
    "sns.displot(merged_movie_df.averagerating);"
   ]
  },
  {
   "cell_type": "markdown",
   "metadata": {},
   "source": [
    "The distribution is close to a normal distribution with most ratings between 6 and 8\n",
    "\n",
    "The ratings mean is 6.4\n",
    "\n",
    "The ratings median is 6.6\n",
    "\n",
    "(as indicated on the descibe dataframe output)"
   ]
  },
  {
   "cell_type": "code",
   "execution_count": 88,
   "metadata": {},
   "outputs": [
    {
     "data": {
      "text/plain": [
       "<Figure size 864x288 with 0 Axes>"
      ]
     },
     "metadata": {},
     "output_type": "display_data"
    },
    {
     "data": {
      "image/png": "[encoded data removed]",
      "text/plain": [
       "<Figure size 360x360 with 1 Axes>"
      ]
     },
     "metadata": {
      "needs_background": "light"
     },
     "output_type": "display_data"
    }
   ],
   "source": [
    "# lets plot film domestic values and see their distribution\n",
    "\n",
    "plt.figure(figsize = (12, 4))\n",
    "sns.displot(merged_movie_df.domestic_gross);"
   ]
  },
  {
   "cell_type": "code",
   "execution_count": 65,
   "metadata": {},
   "outputs": [
    {
     "data": {
      "text/plain": [
       "<Figure size 864x288 with 0 Axes>"
      ]
     },
     "metadata": {},
     "output_type": "display_data"
    },
    {
     "data": {
      "image/png": "[encoded data removed]",
      "text/plain": [
       "<Figure size 360x360 with 1 Axes>"
      ]
     },
     "metadata": {
      "needs_background": "light"
     },
     "output_type": "display_data"
    }
   ],
   "source": [
    "# lets plot film foreign values and see their distribution disregarding the value reocrds \n",
    "\n",
    "plt.figure(figsize = (12, 4))\n",
    "sns.displot(merged_movie_df.foreign_gross[(merged_movie_df.foreign_gross > 0 ) == True]);"
   ]
  },
  {
   "cell_type": "markdown",
   "metadata": {},
   "source": [
    "Distribution for both gross values are skewed to the right\n",
    "\n",
    "Both distibutions have most of their gross revenues under $10,000,000"
   ]
  },
  {
   "cell_type": "markdown",
   "metadata": {},
   "source": [
    "### 6.2 Bivariate Analysis\n",
    "\n",
    "This analysis involves multiple variables, let's try and understand the relationships between these variables."
   ]
  },
  {
   "cell_type": "code",
   "execution_count": 82,
   "metadata": {},
   "outputs": [
    {
     "data": {
      "image/png": "[encoded data removed]",
      "text/plain": [
       "<Figure size 1152x432 with 1 Axes>"
      ]
     },
     "metadata": {
      "needs_background": "light"
     },
     "output_type": "display_data"
    }
   ],
   "source": [
    "#let's plot genres again and see how they perfom against gross values\n",
    "\n",
    "#group movies by genres and get their mean domestic revenues\n",
    "genre_gross = merged_movie_df.groupby('genres')['domestic_gross'].mean().sort_values(ascending=False)\n",
    "\n",
    "plt.figure(figsize=(16, 6))\n",
    "sns.barplot(x=genre_gross.index[:10], y=genre_gross[:10])\n",
    "plt.xlabel('Genres')\n",
    "plt.ylabel('Gross Value')\n",
    "plt.title('Domestic Film revenue per Top 10 Genre')\n",
    "plt.xticks(rotation=90)\n",
    "plt.show()"
   ]
  },
  {
   "cell_type": "markdown",
   "metadata": {},
   "source": [
    "This vizualization shows the average domestic gross values for the top 10 genres. \n",
    "\n",
    "Adventure/Drama/Sport seems to be a high revenue genre, so is Action/Adventure/Sci-Fi and Adventure/Drama Sci-Fi\n",
    "\n",
    "This should be our genres of consideration when making domestic films for revenues"
   ]
  },
  {
   "cell_type": "code",
   "execution_count": 84,
   "metadata": {},
   "outputs": [
    {
     "data": {
      "image/png": "[encoded data removed]",
      "text/plain": [
       "<Figure size 1152x432 with 1 Axes>"
      ]
     },
     "metadata": {
      "needs_background": "light"
     },
     "output_type": "display_data"
    }
   ],
   "source": [
    "#group movies by genres and get their mean foreign revenues\n",
    "\n",
    "genre_gross = merged_movie_df.groupby('genres')['foreign_gross'].mean().sort_values(ascending=False)\n",
    "\n",
    "plt.figure(figsize=(16, 6))\n",
    "sns.barplot(x=genre_gross.index[:10], y=genre_gross[:10])\n",
    "plt.xlabel('Genres')\n",
    "plt.ylabel('Gross Value')\n",
    "plt.title('Foreign Film revenue per Top 10 Genre')\n",
    "plt.xticks(rotation=90)\n",
    "plt.show()"
   ]
  },
  {
   "cell_type": "markdown",
   "metadata": {},
   "source": [
    "This vizualization also shows Adventure/Drama/Sport is the best performing genre for foreign markets as well.\n",
    "\n",
    "Followed by Action/Comedy/Mystery and Adventure/Fantansy"
   ]
  },
  {
   "cell_type": "code",
   "execution_count": 86,
   "metadata": {},
   "outputs": [
    {
     "data": {
      "image/png": "[encoded data removed]",
      "text/plain": [
       "<Figure size 1152x432 with 1 Axes>"
      ]
     },
     "metadata": {
      "needs_background": "light"
     },
     "output_type": "display_data"
    }
   ],
   "source": [
    "#let's see how the genres perform against average ratings\n",
    "\n",
    "genre_ratings = merged_movie_df.groupby('genres')['averagerating'].mean().sort_values(ascending=False)\n",
    "\n",
    "plt.figure(figsize=(16, 6))\n",
    "sns.barplot(x=genre_ratings.index[:10], y=genre_ratings[:10])\n",
    "plt.xlabel('Genres')\n",
    "plt.ylabel('Average Rating')\n",
    "plt.title('Average Rating per Top 10 Genre')\n",
    "plt.xticks(rotation=90)\n",
    "plt.show()"
   ]
  },
  {
   "cell_type": "markdown",
   "metadata": {},
   "source": [
    "The above vizualization shows Adventure genre have the highest ratings of 9 and above.\n",
    "\n",
    "This is followed by Action/Sport then Documentary/Biography/Family, Adventure/Drama/Sci-Fi"
   ]
  },
  {
   "cell_type": "code",
   "execution_count": 87,
   "metadata": {},
   "outputs": [
    {
     "data": {
      "image/png": "[encoded data removed]",
      "text/plain": [
       "<Figure size 1152x432 with 1 Axes>"
      ]
     },
     "metadata": {
      "needs_background": "light"
     },
     "output_type": "display_data"
    }
   ],
   "source": [
    "#let's see what genres had the highest number of votes\n",
    "#this could help us know the most voted on genre\n",
    "\n",
    "genre_votes = merged_movie_df.groupby('genres')['numvotes'].mean().sort_values(ascending=False)\n",
    "\n",
    "plt.figure(figsize=(16, 6))\n",
    "sns.barplot(x=genre_votes.index[:10], y=genre_votes[:10])\n",
    "plt.xlabel('Genres')\n",
    "plt.ylabel('Average Votes')\n",
    "plt.title('Average Votes per Top 10 Genre')\n",
    "plt.xticks(rotation=90)\n",
    "plt.show()"
   ]
  },
  {
   "cell_type": "markdown",
   "metadata": {},
   "source": [
    "This vizualization shows that the Adventure/Drama/Sci-Fi genre had the most votes\n",
    "\n",
    "Does this have a relationship with movie success. We could assume that genre was very popular that viewers cared to vote."
   ]
  },
  {
   "cell_type": "code",
   "execution_count": 70,
   "metadata": {},
   "outputs": [
    {
     "data": {
      "text/html": [
       "<div>\n",
       "<style scoped>\n",
       "    .dataframe tbody tr th:only-of-type {\n",
       "        vertical-align: middle;\n",
       "    }\n",
       "\n",
       "    .dataframe tbody tr th {\n",
       "        vertical-align: top;\n",
       "    }\n",
       "\n",
       "    .dataframe thead th {\n",
       "        text-align: right;\n",
       "    }\n",
       "</style>\n",
       "<table border=\"1\" class=\"dataframe\">\n",
       "  <thead>\n",
       "    <tr style=\"text-align: right;\">\n",
       "      <th></th>\n",
       "      <th>domestic_gross</th>\n",
       "      <th>averagerating</th>\n",
       "      <th>numvotes</th>\n",
       "      <th>foreign_gross</th>\n",
       "      <th>runtime_minutes</th>\n",
       "    </tr>\n",
       "  </thead>\n",
       "  <tbody>\n",
       "    <tr>\n",
       "      <th>domestic_gross</th>\n",
       "      <td>1.000000</td>\n",
       "      <td>0.118603</td>\n",
       "      <td>0.663979</td>\n",
       "      <td>0.812415</td>\n",
       "      <td>0.126108</td>\n",
       "    </tr>\n",
       "    <tr>\n",
       "      <th>averagerating</th>\n",
       "      <td>0.118603</td>\n",
       "      <td>1.000000</td>\n",
       "      <td>0.278355</td>\n",
       "      <td>0.107070</td>\n",
       "      <td>0.147796</td>\n",
       "    </tr>\n",
       "    <tr>\n",
       "      <th>numvotes</th>\n",
       "      <td>0.663979</td>\n",
       "      <td>0.278355</td>\n",
       "      <td>1.000000</td>\n",
       "      <td>0.596376</td>\n",
       "      <td>0.259779</td>\n",
       "    </tr>\n",
       "    <tr>\n",
       "      <th>foreign_gross</th>\n",
       "      <td>0.812415</td>\n",
       "      <td>0.107070</td>\n",
       "      <td>0.596376</td>\n",
       "      <td>1.000000</td>\n",
       "      <td>0.152403</td>\n",
       "    </tr>\n",
       "    <tr>\n",
       "      <th>runtime_minutes</th>\n",
       "      <td>0.126108</td>\n",
       "      <td>0.147796</td>\n",
       "      <td>0.259779</td>\n",
       "      <td>0.152403</td>\n",
       "      <td>1.000000</td>\n",
       "    </tr>\n",
       "  </tbody>\n",
       "</table>\n",
       "</div>"
      ],
      "text/plain": [
       "                 domestic_gross  averagerating  numvotes  foreign_gross  \\\n",
       "domestic_gross         1.000000       0.118603  0.663979       0.812415   \n",
       "averagerating          0.118603       1.000000  0.278355       0.107070   \n",
       "numvotes               0.663979       0.278355  1.000000       0.596376   \n",
       "foreign_gross          0.812415       0.107070  0.596376       1.000000   \n",
       "runtime_minutes        0.126108       0.147796  0.259779       0.152403   \n",
       "\n",
       "                 runtime_minutes  \n",
       "domestic_gross          0.126108  \n",
       "averagerating           0.147796  \n",
       "numvotes                0.259779  \n",
       "foreign_gross           0.152403  \n",
       "runtime_minutes         1.000000  "
      ]
     },
     "execution_count": 70,
     "metadata": {},
     "output_type": "execute_result"
    }
   ],
   "source": [
    "#let's understand the relationship between ratings, votes and domestic & foreign gross, numvotes, runtimes\n",
    "\n",
    "merged_movie_df[['domestic_gross','averagerating','numvotes','foreign_gross','runtime_minutes']].corr()"
   ]
  },
  {
   "cell_type": "code",
   "execution_count": 71,
   "metadata": {},
   "outputs": [
    {
     "data": {
      "text/plain": [
       "<AxesSubplot:>"
      ]
     },
     "execution_count": 71,
     "metadata": {},
     "output_type": "execute_result"
    },
    {
     "data": {
      "image/png": "[encoded data removed]",
      "text/plain": [
       "<Figure size 720x720 with 2 Axes>"
      ]
     },
     "metadata": {
      "needs_background": "light"
     },
     "output_type": "display_data"
    }
   ],
   "source": [
    "#Visualizing the correlation matrix\n",
    "\n",
    "plt.subplots(figsize=(10,10))\n",
    "sns.heatmap(merged_movie_df[['domestic_gross','averagerating','numvotes','foreign_gross','runtime_minutes']].corr(),annot=True)"
   ]
  },
  {
   "cell_type": "markdown",
   "metadata": {},
   "source": [
    "**Observation** It seems movies with the highest number of votes has the highest correlation with domestic gross revenues\n",
    "\n",
    "This shows that movies with high votes were very popular therefore gathering high revenues"
   ]
  },
  {
   "cell_type": "code",
   "execution_count": 72,
   "metadata": {},
   "outputs": [],
   "source": [
    "#let's understand the relationship between genres domestic gross values\n",
    "\n",
    "# means = merged_movie_df.groupby(\"genres\")[\"domestic_gross\"].mean()\n",
    "# errors = merged_movie_df.groupby(\"genres\")[\"domestic_gross\"].std()\n",
    "\n",
    "# plt.figure(figsize=(16, 6))\n",
    "# plt.bar(x=means.index[:10], height=means.values[:10], yerr=errors.values[:10])\n",
    "# plt.xticks(rotation=90)\n",
    "# plt.show()\n"
   ]
  },
  {
   "cell_type": "markdown",
   "metadata": {},
   "source": [
    "## 8. Conclusions"
   ]
  },
  {
   "cell_type": "markdown",
   "metadata": {},
   "source": [
    "Our analysis has shown a number of **observations**:-\n",
    "\n",
    "Movies tend to produce higher revenues in foreign markets as oppoed to domestic market\n",
    "\n",
    "Movies with high number of votes tend to have greater gross revenues\n",
    "\n",
    "The higher the number of votes the more popular that movie was.\n",
    "\n",
    "The most common genres considering different variables as shows that Adventure, Drama, Sci-Fi, Acion are good performing genres \n",
    "\n",
    "1. For Domestic gross, best genres \n",
    "\n",
    "Adventure/Drama/Sport and Action/Adventure/Sci-Fi\n",
    "\n",
    "2. For good ratings best genres\n",
    "\n",
    "Adventure and Action/Sport\n",
    "\n",
    "3. For higher votes best genres\n",
    "\n",
    "Adventure/Drama/Sci-Fi and Adventure/Mystery/Sci-Fi\n",
    "\n",
    "-\n",
    "\n",
    "\n",
    "**After thorough analysis we conclude that:-**\n",
    "\n",
    "Voting numbers are a good measure and indicator of how well a movie performed.\n",
    "\n",
    "The films genres to produce that offer better chances of movie success include;\n",
    "\n",
    "Adventure, Sci-Fi, Drama, Action, Mystery, Thriller, Sport, Fantansy, Romance\n",
    "\n",
    "Therefore we **recommend** these genres as a niche for the films the studion should consider when making movies.\n",
    "\n",
    "-\n",
    "\n",
    "### Next steps\n",
    "\n",
    "We need to consider more factors that may pose substantial influence on the success of films\n",
    "\n",
    "This include;- \n",
    "\n",
    "* Actors/Directors\n",
    "\n",
    "* Region preferences\n",
    "\n",
    "* Marketing channels and investments etc. \n"
   ]
  }
 ],
 "metadata": {
  "kernelspec": {
   "display_name": "Python 3",
   "language": "python",
   "name": "python3"
  },
  "language_info": {
   "codemirror_mode": {
    "name": "ipython",
    "version": 3
   },
   "file_extension": ".py",
   "mimetype": "text/x-python",
   "name": "python",
   "nbconvert_exporter": "python",
   "pygments_lexer": "ipython3",
   "version": "3.8.5"
  }
 },
 "nbformat": 4,
 "nbformat_minor": 2
}
